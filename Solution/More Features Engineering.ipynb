{
 "cells": [
  {
   "cell_type": "code",
   "execution_count": 83,
   "metadata": {
    "collapsed": true
   },
   "outputs": [],
   "source": [
    "import pandas as pd\n",
    "import matplotlib.pyplot as plt\n",
    "%matplotlib inline\n",
    "import seaborn as sns\n",
    "import numpy as np"
   ]
  },
  {
   "cell_type": "code",
   "execution_count": 84,
   "metadata": {
    "collapsed": false
   },
   "outputs": [
    {
     "name": "stderr",
     "output_type": "stream",
     "text": [
      "C:\\Users\\HARSH\\Anaconda3\\lib\\site-packages\\matplotlib\\__init__.py:878: UserWarning: axes.color_cycle is deprecated and replaced with axes.prop_cycle; please use the latter.\n",
      "  warnings.warn(self.msg_depr % (key, alt_key))\n"
     ]
    }
   ],
   "source": [
    "from matplotlib import rcParams\n",
    "#colorbrewer2 Dark2 qualitative color table\n",
    "dark2_colors = [(0.10588235294117647, 0.6196078431372549, 0.4666666666666667),\n",
    "                (0.8509803921568627, 0.37254901960784315, 0.00784313725490196),\n",
    "                (0.4588235294117647, 0.4392156862745098, 0.7019607843137254),\n",
    "                (0.9058823529411765, 0.1607843137254902, 0.5411764705882353),\n",
    "                (0.4, 0.6509803921568628, 0.11764705882352941),\n",
    "                (0.9019607843137255, 0.6705882352941176, 0.00784313725490196),\n",
    "                (0.6509803921568628, 0.4627450980392157, 0.11372549019607843)]\n",
    "\n",
    "rcParams['figure.figsize'] = (8, 3)\n",
    "rcParams['figure.dpi'] = 150\n",
    "rcParams['axes.color_cycle'] = dark2_colors\n",
    "rcParams['lines.linewidth'] = 2\n",
    "rcParams['font.size'] = 14\n",
    "rcParams['patch.edgecolor'] = 'white'\n",
    "rcParams['patch.facecolor'] = dark2_colors[0]\n",
    "rcParams['font.family'] = 'StixGeneral'\n",
    "rcParams['axes.grid'] = True\n",
    "rcParams['axes.facecolor'] = '#eeeeee'"
   ]
  },
  {
   "cell_type": "code",
   "execution_count": 85,
   "metadata": {
    "collapsed": true
   },
   "outputs": [],
   "source": [
    "data=pd.read_csv(\"Dealing_Data.csv\")"
   ]
  },
  {
   "cell_type": "code",
   "execution_count": 86,
   "metadata": {
    "collapsed": false
   },
   "outputs": [
    {
     "data": {
      "text/html": [
       "<div>\n",
       "<table border=\"1\" class=\"dataframe\">\n",
       "  <thead>\n",
       "    <tr style=\"text-align: right;\">\n",
       "      <th></th>\n",
       "      <th>Account Number</th>\n",
       "      <th>Address</th>\n",
       "      <th>Scheme</th>\n",
       "      <th>Staus</th>\n",
       "      <th>Gender</th>\n",
       "      <th>Region</th>\n",
       "      <th>Sale of Equipment Status</th>\n",
       "      <th>Age</th>\n",
       "      <th>Equipment Warranty</th>\n",
       "      <th>Salary Slab</th>\n",
       "      <th>...</th>\n",
       "      <th>Average_of_used_pattern_of_last_three_month</th>\n",
       "      <th>Last_Month_Post_Limit</th>\n",
       "      <th>Average_of_Post_Limit_of_last_two_month</th>\n",
       "      <th>Average_of_Post_Limit_of_last_three_month</th>\n",
       "      <th>Last_MOnth_data_used</th>\n",
       "      <th>Average_of_data_used_of_last_two_month</th>\n",
       "      <th>Average_of_data_used_of_last_three_month</th>\n",
       "      <th>Churn</th>\n",
       "      <th>Time_period</th>\n",
       "      <th>Contract_Time_Remaining</th>\n",
       "    </tr>\n",
       "  </thead>\n",
       "  <tbody>\n",
       "    <tr>\n",
       "      <th>0</th>\n",
       "      <td>M1</td>\n",
       "      <td>VALID</td>\n",
       "      <td>KLA</td>\n",
       "      <td>Open</td>\n",
       "      <td>Female</td>\n",
       "      <td>Northern</td>\n",
       "      <td>RENTED</td>\n",
       "      <td>70.0</td>\n",
       "      <td>Three Full Years</td>\n",
       "      <td>5.0</td>\n",
       "      <td>...</td>\n",
       "      <td>671.666667</td>\n",
       "      <td>0.0</td>\n",
       "      <td>0.0</td>\n",
       "      <td>0.000000</td>\n",
       "      <td>109.1</td>\n",
       "      <td>109.725</td>\n",
       "      <td>87.750000</td>\n",
       "      <td>0</td>\n",
       "      <td>1243.0</td>\n",
       "      <td>3.0</td>\n",
       "    </tr>\n",
       "    <tr>\n",
       "      <th>1</th>\n",
       "      <td>M2</td>\n",
       "      <td>VALID</td>\n",
       "      <td>PPL</td>\n",
       "      <td>Open</td>\n",
       "      <td>Female</td>\n",
       "      <td>Western</td>\n",
       "      <td>RENTED</td>\n",
       "      <td>55.0</td>\n",
       "      <td>Three Full Years</td>\n",
       "      <td>7.0</td>\n",
       "      <td>...</td>\n",
       "      <td>614.763333</td>\n",
       "      <td>0.0</td>\n",
       "      <td>0.0</td>\n",
       "      <td>1.666667</td>\n",
       "      <td>103.5</td>\n",
       "      <td>87.200</td>\n",
       "      <td>90.933333</td>\n",
       "      <td>0</td>\n",
       "      <td>1219.0</td>\n",
       "      <td>3.0</td>\n",
       "    </tr>\n",
       "    <tr>\n",
       "      <th>2</th>\n",
       "      <td>M3</td>\n",
       "      <td>VALID</td>\n",
       "      <td>KLA</td>\n",
       "      <td>Open</td>\n",
       "      <td>Male</td>\n",
       "      <td>Eastern</td>\n",
       "      <td>RENTED</td>\n",
       "      <td>64.0</td>\n",
       "      <td>Three Full Years</td>\n",
       "      <td>1.0</td>\n",
       "      <td>...</td>\n",
       "      <td>670.940000</td>\n",
       "      <td>0.0</td>\n",
       "      <td>0.0</td>\n",
       "      <td>0.000000</td>\n",
       "      <td>75.1</td>\n",
       "      <td>62.500</td>\n",
       "      <td>64.950000</td>\n",
       "      <td>0</td>\n",
       "      <td>1211.0</td>\n",
       "      <td>369.0</td>\n",
       "    </tr>\n",
       "    <tr>\n",
       "      <th>3</th>\n",
       "      <td>M4</td>\n",
       "      <td>VALID</td>\n",
       "      <td>MXX</td>\n",
       "      <td>Open</td>\n",
       "      <td>Female</td>\n",
       "      <td>Northern</td>\n",
       "      <td>RENTED</td>\n",
       "      <td>66.0</td>\n",
       "      <td>Three Full Years</td>\n",
       "      <td>6.0</td>\n",
       "      <td>...</td>\n",
       "      <td>670.176667</td>\n",
       "      <td>0.0</td>\n",
       "      <td>0.0</td>\n",
       "      <td>0.000000</td>\n",
       "      <td>56.6</td>\n",
       "      <td>56.650</td>\n",
       "      <td>57.333333</td>\n",
       "      <td>0</td>\n",
       "      <td>1250.0</td>\n",
       "      <td>3.0</td>\n",
       "    </tr>\n",
       "    <tr>\n",
       "      <th>4</th>\n",
       "      <td>M5</td>\n",
       "      <td>VALID</td>\n",
       "      <td>PRP</td>\n",
       "      <td>Open</td>\n",
       "      <td>MF</td>\n",
       "      <td>Western</td>\n",
       "      <td>RENTED</td>\n",
       "      <td>48.0</td>\n",
       "      <td>Full Year</td>\n",
       "      <td>4.0</td>\n",
       "      <td>...</td>\n",
       "      <td>431.060000</td>\n",
       "      <td>0.0</td>\n",
       "      <td>0.0</td>\n",
       "      <td>0.000000</td>\n",
       "      <td>1.4</td>\n",
       "      <td>2.550</td>\n",
       "      <td>5.866667</td>\n",
       "      <td>0</td>\n",
       "      <td>72.0</td>\n",
       "      <td>278.0</td>\n",
       "    </tr>\n",
       "  </tbody>\n",
       "</table>\n",
       "<p>5 rows × 39 columns</p>\n",
       "</div>"
      ],
      "text/plain": [
       "  Account Number Address Scheme Staus  Gender   Region   \\\n",
       "0             M1   VALID    KLA  Open  Female  Northern   \n",
       "1             M2   VALID    PPL  Open  Female   Western   \n",
       "2             M3   VALID    KLA  Open    Male   Eastern   \n",
       "3             M4   VALID    MXX  Open  Female  Northern   \n",
       "4             M5   VALID    PRP  Open      MF   Western   \n",
       "\n",
       "   Sale of Equipment Status   Age Equipment Warranty  Salary Slab  \\\n",
       "0                    RENTED  70.0   Three Full Years          5.0   \n",
       "1                    RENTED  55.0   Three Full Years          7.0   \n",
       "2                    RENTED  64.0   Three Full Years          1.0   \n",
       "3                    RENTED  66.0   Three Full Years          6.0   \n",
       "4                    RENTED  48.0          Full Year          4.0   \n",
       "\n",
       "            ...             Average_of_used_pattern_of_last_three_month  \\\n",
       "0           ...                                              671.666667   \n",
       "1           ...                                              614.763333   \n",
       "2           ...                                              670.940000   \n",
       "3           ...                                              670.176667   \n",
       "4           ...                                              431.060000   \n",
       "\n",
       "   Last_Month_Post_Limit Average_of_Post_Limit_of_last_two_month  \\\n",
       "0                    0.0                                     0.0   \n",
       "1                    0.0                                     0.0   \n",
       "2                    0.0                                     0.0   \n",
       "3                    0.0                                     0.0   \n",
       "4                    0.0                                     0.0   \n",
       "\n",
       "   Average_of_Post_Limit_of_last_three_month  Last_MOnth_data_used  \\\n",
       "0                                   0.000000                 109.1   \n",
       "1                                   1.666667                 103.5   \n",
       "2                                   0.000000                  75.1   \n",
       "3                                   0.000000                  56.6   \n",
       "4                                   0.000000                   1.4   \n",
       "\n",
       "   Average_of_data_used_of_last_two_month  \\\n",
       "0                                 109.725   \n",
       "1                                  87.200   \n",
       "2                                  62.500   \n",
       "3                                  56.650   \n",
       "4                                   2.550   \n",
       "\n",
       "   Average_of_data_used_of_last_three_month  Churn  Time_period  \\\n",
       "0                                 87.750000      0       1243.0   \n",
       "1                                 90.933333      0       1219.0   \n",
       "2                                 64.950000      0       1211.0   \n",
       "3                                 57.333333      0       1250.0   \n",
       "4                                  5.866667      0         72.0   \n",
       "\n",
       "   Contract_Time_Remaining  \n",
       "0                      3.0  \n",
       "1                      3.0  \n",
       "2                    369.0  \n",
       "3                      3.0  \n",
       "4                    278.0  \n",
       "\n",
       "[5 rows x 39 columns]"
      ]
     },
     "execution_count": 86,
     "metadata": {},
     "output_type": "execute_result"
    }
   ],
   "source": [
    "data.head()"
   ]
  },
  {
   "cell_type": "code",
   "execution_count": 87,
   "metadata": {
    "collapsed": false
   },
   "outputs": [
    {
     "data": {
      "text/plain": [
       "Index(['Account Number', 'Address', 'Scheme', 'Staus', 'Gender', 'Region ',\n",
       "       ' Sale of Equipment Status', 'Age', 'Equipment Warranty', 'Salary Slab',\n",
       "       'Professional Info', 'Age of Home', 'Mode', 'Defaults',\n",
       "       'Last_Month_Payment', 'Average_of_payment_of_last_two_month',\n",
       "       'Average_of_payment_of_last_three_month', 'Last_Month_Default',\n",
       "       'Average_of_default_of_last_two_month',\n",
       "       'Average_of_default_of_last_three_month', 'Initial_Level_Tech',\n",
       "       'Account', 'Payment_Settlement', 'Utilities',\n",
       "       'Operational_Capabilities', 'Initial_Level_Payment_Settlement',\n",
       "       'Limit_Defaults', 'Last_Month_used_pattern',\n",
       "       'Average_of_used_pattern_of_last_two_month',\n",
       "       'Average_of_used_pattern_of_last_three_month', 'Last_Month_Post_Limit',\n",
       "       'Average_of_Post_Limit_of_last_two_month',\n",
       "       'Average_of_Post_Limit_of_last_three_month', 'Last_MOnth_data_used',\n",
       "       'Average_of_data_used_of_last_two_month',\n",
       "       'Average_of_data_used_of_last_three_month', 'Churn', 'Time_period',\n",
       "       'Contract_Time_Remaining'],\n",
       "      dtype='object')"
      ]
     },
     "execution_count": 87,
     "metadata": {},
     "output_type": "execute_result"
    }
   ],
   "source": [
    "data.columns"
   ]
  },
  {
   "cell_type": "code",
   "execution_count": 88,
   "metadata": {
    "collapsed": false
   },
   "outputs": [
    {
     "data": {
      "text/plain": [
       "((14952, 39), (9966, 39), (4986, 39))"
      ]
     },
     "execution_count": 88,
     "metadata": {},
     "output_type": "execute_result"
    }
   ],
   "source": [
    "data[\"X\"]=data[\"Account Number\"].apply(lambda x: x[0])\n",
    "train=data[data.X==\"M\"]\n",
    "test=data[data.X==\"V\"]\n",
    "del data[\"X\"], train[\"X\"], test[\"X\"]\n",
    "\n",
    "data.shape, train.shape, test.shape"
   ]
  },
  {
   "cell_type": "code",
   "execution_count": 89,
   "metadata": {
    "collapsed": false
   },
   "outputs": [
    {
     "data": {
      "text/plain": [
       "<matplotlib.axes._subplots.AxesSubplot at 0x20782698dd8>"
      ]
     },
     "execution_count": 89,
     "metadata": {},
     "output_type": "execute_result"
    },
    {
     "data": {
      "image/png": "[encoded data removed]",
      "text/plain": [
       "<matplotlib.figure.Figure at 0x2078269e978>"
      ]
     },
     "metadata": {},
     "output_type": "display_data"
    }
   ],
   "source": [
    "rcParams['figure.figsize'] = (8,6)\n",
    "corr = data.corr()\n",
    "sns.heatmap(corr, \n",
    "            xticklabels=corr.columns.values,\n",
    "            yticklabels=corr.columns.values)"
   ]
  },
  {
   "cell_type": "code",
   "execution_count": 90,
   "metadata": {
    "collapsed": false
   },
   "outputs": [
    {
     "data": {
      "text/plain": [
       "15"
      ]
     },
     "execution_count": 90,
     "metadata": {},
     "output_type": "execute_result"
    }
   ],
   "source": [
    "len(data.Scheme.unique())"
   ]
  },
  {
   "cell_type": "markdown",
   "metadata": {},
   "source": [
    "> Dealing with categories of Scheme"
   ]
  },
  {
   "cell_type": "code",
   "execution_count": 91,
   "metadata": {
    "collapsed": false
   },
   "outputs": [
    {
     "name": "stdout",
     "output_type": "stream",
     "text": [
      "77\n",
      "0\n",
      "77\n"
     ]
    }
   ],
   "source": [
    "print (data[\"Scheme\"][data.Scheme==\"PRS\"].count())\n",
    "print (train[train.Scheme==\"PRS\"][\"Scheme\"].count())\n",
    "print (test[test.Scheme==\"PRS\"][\"Scheme\"].count())"
   ]
  },
  {
   "cell_type": "code",
   "execution_count": 92,
   "metadata": {
    "collapsed": false
   },
   "outputs": [
    {
     "name": "stdout",
     "output_type": "stream",
     "text": [
      "201\n",
      "201\n",
      "0\n"
     ]
    }
   ],
   "source": [
    "print (data[data.Scheme==\"PWP\"][\"Scheme\"].count())\n",
    "print (train[train.Scheme==\"PWP\"][\"Scheme\"].count())\n",
    "print (test[test.Scheme==\"PWp\"][\"Scheme\"].count())"
   ]
  },
  {
   "cell_type": "code",
   "execution_count": 93,
   "metadata": {
    "collapsed": false
   },
   "outputs": [
    {
     "name": "stdout",
     "output_type": "stream",
     "text": [
      "1397\n",
      "1397\n",
      "0\n"
     ]
    }
   ],
   "source": [
    "print (data[data.Scheme==\"PRM\"][\"Scheme\"].count())\n",
    "print (train[train.Scheme==\"PRM\"][\"Scheme\"].count())\n",
    "print (test[test.Scheme==\"PRM\"][\"Scheme\"].count())"
   ]
  },
  {
   "cell_type": "code",
   "execution_count": 94,
   "metadata": {
    "collapsed": false
   },
   "outputs": [
    {
     "data": {
      "text/plain": [
       "15"
      ]
     },
     "execution_count": 94,
     "metadata": {},
     "output_type": "execute_result"
    }
   ],
   "source": [
    "len(data[\"Scheme\"].unique())"
   ]
  },
  {
   "cell_type": "code",
   "execution_count": 95,
   "metadata": {
    "collapsed": false
   },
   "outputs": [
    {
     "name": "stderr",
     "output_type": "stream",
     "text": [
      "C:\\Users\\HARSH\\Anaconda3\\lib\\site-packages\\ipykernel\\__main__.py:1: SettingWithCopyWarning: \n",
      "A value is trying to be set on a copy of a slice from a DataFrame\n",
      "\n",
      "See the caveats in the documentation: http://pandas.pydata.org/pandas-docs/stable/indexing.html#indexing-view-versus-copy\n",
      "  if __name__ == '__main__':\n"
     ]
    }
   ],
   "source": [
    "data[\"Scheme\"][data.Scheme==\"PRS\"]=-999"
   ]
  },
  {
   "cell_type": "code",
   "execution_count": 96,
   "metadata": {
    "collapsed": false
   },
   "outputs": [
    {
     "data": {
      "text/plain": [
       "77"
      ]
     },
     "execution_count": 96,
     "metadata": {},
     "output_type": "execute_result"
    }
   ],
   "source": [
    "data[data[\"Scheme\"]==-999][\"Scheme\"].count()"
   ]
  },
  {
   "cell_type": "code",
   "execution_count": 97,
   "metadata": {
    "collapsed": false
   },
   "outputs": [],
   "source": [
    "x=data.groupby(\"Region \")[\"Scheme\"].agg(lambda x:x.value_counts().index[0])"
   ]
  },
  {
   "cell_type": "code",
   "execution_count": 98,
   "metadata": {
    "collapsed": false
   },
   "outputs": [
    {
     "data": {
      "text/plain": [
       "Region \n",
       "Eastern     PPL\n",
       "Northern    PPL\n",
       "Southern    PPL\n",
       "Western     PPL\n",
       "Name: Scheme, dtype: object"
      ]
     },
     "execution_count": 98,
     "metadata": {},
     "output_type": "execute_result"
    }
   ],
   "source": [
    "x"
   ]
  },
  {
   "cell_type": "code",
   "execution_count": 99,
   "metadata": {
    "collapsed": false
   },
   "outputs": [
    {
     "data": {
      "text/plain": [
       "2993"
      ]
     },
     "execution_count": 99,
     "metadata": {},
     "output_type": "execute_result"
    }
   ],
   "source": [
    "data[\"Scheme\"][data[\"Scheme\"]==\"PPL\"].count()"
   ]
  },
  {
   "cell_type": "code",
   "execution_count": 100,
   "metadata": {
    "collapsed": false
   },
   "outputs": [
    {
     "name": "stderr",
     "output_type": "stream",
     "text": [
      "C:\\Users\\HARSH\\Anaconda3\\lib\\site-packages\\ipykernel\\__main__.py:1: SettingWithCopyWarning: \n",
      "A value is trying to be set on a copy of a slice from a DataFrame\n",
      "\n",
      "See the caveats in the documentation: http://pandas.pydata.org/pandas-docs/stable/indexing.html#indexing-view-versus-copy\n",
      "  if __name__ == '__main__':\n"
     ]
    }
   ],
   "source": [
    "data[\"Scheme\"][data[\"Scheme\"]==-999]=\"PPL\""
   ]
  },
  {
   "cell_type": "code",
   "execution_count": 101,
   "metadata": {
    "collapsed": false
   },
   "outputs": [
    {
     "data": {
      "text/plain": [
       "3070"
      ]
     },
     "execution_count": 101,
     "metadata": {},
     "output_type": "execute_result"
    }
   ],
   "source": [
    "data[\"Scheme\"][data[\"Scheme\"]==\"PPL\"].count()"
   ]
  },
  {
   "cell_type": "code",
   "execution_count": 102,
   "metadata": {
    "collapsed": false
   },
   "outputs": [
    {
     "name": "stderr",
     "output_type": "stream",
     "text": [
      "C:\\Users\\HARSH\\Anaconda3\\lib\\site-packages\\ipykernel\\__main__.py:2: FutureWarning: sort is deprecated, use sort_values(inplace=True) for INPLACE sorting\n",
      "  from ipykernel import kernelapp as app\n"
     ]
    },
    {
     "data": {
      "text/plain": [
       "Scheme\n",
       "PWP    0.019900\n",
       "PWM    0.023649\n",
       "KLA    0.039256\n",
       "PWR    0.043860\n",
       "POP    0.045259\n",
       "CHC    0.049096\n",
       "CNN    0.051310\n",
       "PPL    0.053994\n",
       "PRM    0.054402\n",
       "PRR    0.056561\n",
       "PRP    0.060811\n",
       "PMM    0.066667\n",
       "MXX    0.090301\n",
       "ESS    0.153153\n",
       "Name: Churn, dtype: float64"
      ]
     },
     "execution_count": 102,
     "metadata": {},
     "output_type": "execute_result"
    }
   ],
   "source": [
    "a=train.groupby(\"Scheme\")[\"Churn\"].mean()\n",
    "a.sort()\n",
    "a"
   ]
  },
  {
   "cell_type": "code",
   "execution_count": 103,
   "metadata": {
    "collapsed": false
   },
   "outputs": [
    {
     "name": "stderr",
     "output_type": "stream",
     "text": [
      "C:\\Users\\HARSH\\Anaconda3\\lib\\site-packages\\ipykernel\\__main__.py:1: SettingWithCopyWarning: \n",
      "A value is trying to be set on a copy of a slice from a DataFrame\n",
      "\n",
      "See the caveats in the documentation: http://pandas.pydata.org/pandas-docs/stable/indexing.html#indexing-view-versus-copy\n",
      "  if __name__ == '__main__':\n"
     ]
    }
   ],
   "source": [
    "data[\"Scheme\"][data.Scheme==\"PWP\"]=\"PWM\""
   ]
  },
  {
   "cell_type": "code",
   "execution_count": 104,
   "metadata": {
    "collapsed": false
   },
   "outputs": [
    {
     "name": "stderr",
     "output_type": "stream",
     "text": [
      "C:\\Users\\HARSH\\Anaconda3\\lib\\site-packages\\ipykernel\\__main__.py:1: SettingWithCopyWarning: \n",
      "A value is trying to be set on a copy of a slice from a DataFrame\n",
      "\n",
      "See the caveats in the documentation: http://pandas.pydata.org/pandas-docs/stable/indexing.html#indexing-view-versus-copy\n",
      "  if __name__ == '__main__':\n"
     ]
    }
   ],
   "source": [
    "data[\"Scheme\"][data.Scheme==\"PRM\"]=\"PPL\""
   ]
  },
  {
   "cell_type": "code",
   "execution_count": 105,
   "metadata": {
    "collapsed": false
   },
   "outputs": [
    {
     "data": {
      "text/plain": [
       "12"
      ]
     },
     "execution_count": 105,
     "metadata": {},
     "output_type": "execute_result"
    }
   ],
   "source": [
    "len(data[\"Scheme\"].unique())"
   ]
  },
  {
   "cell_type": "markdown",
   "metadata": {},
   "source": [
    "> ."
   ]
  },
  {
   "cell_type": "code",
   "execution_count": 106,
   "metadata": {
    "collapsed": false
   },
   "outputs": [
    {
     "data": {
      "text/plain": [
       "((14952, 39), (9966, 39), (4986, 39))"
      ]
     },
     "execution_count": 106,
     "metadata": {},
     "output_type": "execute_result"
    }
   ],
   "source": [
    "data[\"X\"]=data[\"Account Number\"].apply(lambda x: x[0])\n",
    "train=data[data.X==\"M\"]\n",
    "test=data[data.X==\"V\"]\n",
    "del data[\"X\"], train[\"X\"], test[\"X\"]\n",
    "\n",
    "data.shape, train.shape, test.shape"
   ]
  },
  {
   "cell_type": "code",
   "execution_count": 107,
   "metadata": {
    "collapsed": false
   },
   "outputs": [
    {
     "name": "stdout",
     "output_type": "stream",
     "text": [
      "0\n",
      "0\n",
      "0\n"
     ]
    }
   ],
   "source": [
    "print (data[data.Scheme==\"PWP\"][\"Scheme\"].count())\n",
    "print (train[train.Scheme==\"PWP\"][\"Scheme\"].count())\n",
    "print (test[test.Scheme==\"PWp\"][\"Scheme\"].count())"
   ]
  },
  {
   "cell_type": "code",
   "execution_count": 108,
   "metadata": {
    "collapsed": true
   },
   "outputs": [],
   "source": [
    "Categorical = [\"Address\",\"Scheme\", \"Staus\", \"Gender\", \"Region \", \" Sale of Equipment Status\", \"Equipment Warranty\",\\\n",
    "               \"Salary Slab\", \"Professional Info\", \"Age of Home\", \"Mode\"  ]"
   ]
  },
  {
   "cell_type": "code",
   "execution_count": 111,
   "metadata": {
    "collapsed": true
   },
   "outputs": [],
   "source": [
    "def replacing_categorical(X):\n",
    "    x=train.groupby(X)[\"Churn\"].mean()\n",
    "    y=train.groupby(X)[\"Churn\"].std()\n",
    "    data[X+str(\"_mean\")]= data[X].apply(lambda X1: x[X1])\n",
    "    data[X+str(\"_std\")] = data[X].apply(lambda X2: y[X2])\n",
    "    del data[X]"
   ]
  },
  {
   "cell_type": "code",
   "execution_count": 112,
   "metadata": {
    "collapsed": false
   },
   "outputs": [],
   "source": [
    "for i in Categorical:\n",
    "    replacing_categorical(i)"
   ]
  },
  {
   "cell_type": "code",
   "execution_count": 113,
   "metadata": {
    "collapsed": false
   },
   "outputs": [
    {
     "data": {
      "text/plain": [
       "0.050461    14002\n",
       "0.055380      950\n",
       "Name: Address_mean, dtype: int64"
      ]
     },
     "execution_count": 113,
     "metadata": {},
     "output_type": "execute_result"
    }
   ],
   "source": [
    "data.Address_mean.value_counts()"
   ]
  },
  {
   "cell_type": "code",
   "execution_count": 114,
   "metadata": {
    "collapsed": false
   },
   "outputs": [
    {
     "data": {
      "text/html": [
       "<div>\n",
       "<table border=\"1\" class=\"dataframe\">\n",
       "  <thead>\n",
       "    <tr style=\"text-align: right;\">\n",
       "      <th></th>\n",
       "      <th>Account Number</th>\n",
       "      <th>Age</th>\n",
       "      <th>Defaults</th>\n",
       "      <th>Last_Month_Payment</th>\n",
       "      <th>Average_of_payment_of_last_two_month</th>\n",
       "      <th>Average_of_payment_of_last_three_month</th>\n",
       "      <th>Last_Month_Default</th>\n",
       "      <th>Average_of_default_of_last_two_month</th>\n",
       "      <th>Average_of_default_of_last_three_month</th>\n",
       "      <th>Initial_Level_Tech</th>\n",
       "      <th>...</th>\n",
       "      <th>Equipment Warranty_mean</th>\n",
       "      <th>Equipment Warranty_std</th>\n",
       "      <th>Salary Slab_mean</th>\n",
       "      <th>Salary Slab_std</th>\n",
       "      <th>Professional Info_mean</th>\n",
       "      <th>Professional Info_std</th>\n",
       "      <th>Age of Home_mean</th>\n",
       "      <th>Age of Home_std</th>\n",
       "      <th>Mode_mean</th>\n",
       "      <th>Mode_std</th>\n",
       "    </tr>\n",
       "  </thead>\n",
       "  <tbody>\n",
       "    <tr>\n",
       "      <th>0</th>\n",
       "      <td>M1</td>\n",
       "      <td>70.0</td>\n",
       "      <td>0.0</td>\n",
       "      <td>1209.810</td>\n",
       "      <td>1209.8100</td>\n",
       "      <td>1209.810</td>\n",
       "      <td>0.0</td>\n",
       "      <td>0.0</td>\n",
       "      <td>0.0</td>\n",
       "      <td>0.000000</td>\n",
       "      <td>...</td>\n",
       "      <td>0.050988</td>\n",
       "      <td>0.219983</td>\n",
       "      <td>0.041636</td>\n",
       "      <td>0.199829</td>\n",
       "      <td>0.057404</td>\n",
       "      <td>0.232629</td>\n",
       "      <td>0.044599</td>\n",
       "      <td>0.206472</td>\n",
       "      <td>0.053399</td>\n",
       "      <td>0.224841</td>\n",
       "    </tr>\n",
       "    <tr>\n",
       "      <th>1</th>\n",
       "      <td>M2</td>\n",
       "      <td>55.0</td>\n",
       "      <td>0.0</td>\n",
       "      <td>751.695</td>\n",
       "      <td>751.6950</td>\n",
       "      <td>751.695</td>\n",
       "      <td>0.0</td>\n",
       "      <td>0.0</td>\n",
       "      <td>0.0</td>\n",
       "      <td>3.000000</td>\n",
       "      <td>...</td>\n",
       "      <td>0.050988</td>\n",
       "      <td>0.219983</td>\n",
       "      <td>0.039683</td>\n",
       "      <td>0.195406</td>\n",
       "      <td>0.057404</td>\n",
       "      <td>0.232629</td>\n",
       "      <td>0.026396</td>\n",
       "      <td>0.160350</td>\n",
       "      <td>0.053399</td>\n",
       "      <td>0.224841</td>\n",
       "    </tr>\n",
       "    <tr>\n",
       "      <th>2</th>\n",
       "      <td>M3</td>\n",
       "      <td>64.0</td>\n",
       "      <td>0.0</td>\n",
       "      <td>1064.385</td>\n",
       "      <td>1064.3850</td>\n",
       "      <td>1064.385</td>\n",
       "      <td>0.0</td>\n",
       "      <td>0.0</td>\n",
       "      <td>0.0</td>\n",
       "      <td>0.000000</td>\n",
       "      <td>...</td>\n",
       "      <td>0.050988</td>\n",
       "      <td>0.219983</td>\n",
       "      <td>0.058559</td>\n",
       "      <td>0.235061</td>\n",
       "      <td>0.034483</td>\n",
       "      <td>0.182597</td>\n",
       "      <td>0.044599</td>\n",
       "      <td>0.206472</td>\n",
       "      <td>0.053399</td>\n",
       "      <td>0.224841</td>\n",
       "    </tr>\n",
       "    <tr>\n",
       "      <th>3</th>\n",
       "      <td>M4</td>\n",
       "      <td>66.0</td>\n",
       "      <td>0.0</td>\n",
       "      <td>1488.375</td>\n",
       "      <td>1581.5625</td>\n",
       "      <td>1375.500</td>\n",
       "      <td>0.0</td>\n",
       "      <td>0.0</td>\n",
       "      <td>0.0</td>\n",
       "      <td>0.000000</td>\n",
       "      <td>...</td>\n",
       "      <td>0.050988</td>\n",
       "      <td>0.219983</td>\n",
       "      <td>0.040296</td>\n",
       "      <td>0.196717</td>\n",
       "      <td>0.037671</td>\n",
       "      <td>0.190563</td>\n",
       "      <td>0.026396</td>\n",
       "      <td>0.160350</td>\n",
       "      <td>0.053399</td>\n",
       "      <td>0.224841</td>\n",
       "    </tr>\n",
       "    <tr>\n",
       "      <th>4</th>\n",
       "      <td>M5</td>\n",
       "      <td>48.0</td>\n",
       "      <td>0.0</td>\n",
       "      <td>856.695</td>\n",
       "      <td>888.1425</td>\n",
       "      <td>872.060</td>\n",
       "      <td>0.0</td>\n",
       "      <td>0.0</td>\n",
       "      <td>0.0</td>\n",
       "      <td>0.333333</td>\n",
       "      <td>...</td>\n",
       "      <td>0.000000</td>\n",
       "      <td>0.000000</td>\n",
       "      <td>0.062637</td>\n",
       "      <td>0.242347</td>\n",
       "      <td>0.057404</td>\n",
       "      <td>0.232629</td>\n",
       "      <td>0.063213</td>\n",
       "      <td>0.243400</td>\n",
       "      <td>0.053399</td>\n",
       "      <td>0.224841</td>\n",
       "    </tr>\n",
       "  </tbody>\n",
       "</table>\n",
       "<p>5 rows × 50 columns</p>\n",
       "</div>"
      ],
      "text/plain": [
       "  Account Number   Age  Defaults  Last_Month_Payment  \\\n",
       "0             M1  70.0       0.0            1209.810   \n",
       "1             M2  55.0       0.0             751.695   \n",
       "2             M3  64.0       0.0            1064.385   \n",
       "3             M4  66.0       0.0            1488.375   \n",
       "4             M5  48.0       0.0             856.695   \n",
       "\n",
       "   Average_of_payment_of_last_two_month  \\\n",
       "0                             1209.8100   \n",
       "1                              751.6950   \n",
       "2                             1064.3850   \n",
       "3                             1581.5625   \n",
       "4                              888.1425   \n",
       "\n",
       "   Average_of_payment_of_last_three_month  Last_Month_Default  \\\n",
       "0                                1209.810                 0.0   \n",
       "1                                 751.695                 0.0   \n",
       "2                                1064.385                 0.0   \n",
       "3                                1375.500                 0.0   \n",
       "4                                 872.060                 0.0   \n",
       "\n",
       "   Average_of_default_of_last_two_month  \\\n",
       "0                                   0.0   \n",
       "1                                   0.0   \n",
       "2                                   0.0   \n",
       "3                                   0.0   \n",
       "4                                   0.0   \n",
       "\n",
       "   Average_of_default_of_last_three_month  Initial_Level_Tech    ...     \\\n",
       "0                                     0.0            0.000000    ...      \n",
       "1                                     0.0            3.000000    ...      \n",
       "2                                     0.0            0.000000    ...      \n",
       "3                                     0.0            0.000000    ...      \n",
       "4                                     0.0            0.333333    ...      \n",
       "\n",
       "   Equipment Warranty_mean  Equipment Warranty_std  Salary Slab_mean  \\\n",
       "0                 0.050988                0.219983          0.041636   \n",
       "1                 0.050988                0.219983          0.039683   \n",
       "2                 0.050988                0.219983          0.058559   \n",
       "3                 0.050988                0.219983          0.040296   \n",
       "4                 0.000000                0.000000          0.062637   \n",
       "\n",
       "   Salary Slab_std  Professional Info_mean  Professional Info_std  \\\n",
       "0         0.199829                0.057404               0.232629   \n",
       "1         0.195406                0.057404               0.232629   \n",
       "2         0.235061                0.034483               0.182597   \n",
       "3         0.196717                0.037671               0.190563   \n",
       "4         0.242347                0.057404               0.232629   \n",
       "\n",
       "   Age of Home_mean  Age of Home_std  Mode_mean  Mode_std  \n",
       "0          0.044599         0.206472   0.053399  0.224841  \n",
       "1          0.026396         0.160350   0.053399  0.224841  \n",
       "2          0.044599         0.206472   0.053399  0.224841  \n",
       "3          0.026396         0.160350   0.053399  0.224841  \n",
       "4          0.063213         0.243400   0.053399  0.224841  \n",
       "\n",
       "[5 rows x 50 columns]"
      ]
     },
     "execution_count": 114,
     "metadata": {},
     "output_type": "execute_result"
    }
   ],
   "source": [
    "data.head()"
   ]
  },
  {
   "cell_type": "code",
   "execution_count": 121,
   "metadata": {
    "collapsed": false
   },
   "outputs": [
    {
     "data": {
      "text/plain": [
       "Index(['Account Number', 'Age', 'Defaults', 'Last_Month_Payment',\n",
       "       'Average_of_payment_of_last_two_month',\n",
       "       'Average_of_payment_of_last_three_month', 'Last_Month_Default',\n",
       "       'Average_of_default_of_last_two_month',\n",
       "       'Average_of_default_of_last_three_month', 'Initial_Level_Tech',\n",
       "       'Account', 'Payment_Settlement', 'Utilities',\n",
       "       'Operational_Capabilities', 'Initial_Level_Payment_Settlement',\n",
       "       'Limit_Defaults', 'Last_Month_used_pattern',\n",
       "       'Average_of_used_pattern_of_last_two_month',\n",
       "       'Average_of_used_pattern_of_last_three_month', 'Last_Month_Post_Limit',\n",
       "       'Average_of_Post_Limit_of_last_two_month',\n",
       "       'Average_of_Post_Limit_of_last_three_month', 'Last_MOnth_data_used',\n",
       "       'Average_of_data_used_of_last_two_month',\n",
       "       'Average_of_data_used_of_last_three_month', 'Churn', 'Time_period',\n",
       "       'Contract_Time_Remaining', 'Address_mean', 'Address_std', 'Scheme_mean',\n",
       "       'Scheme_std', 'Staus_mean', 'Staus_std', 'Gender_mean', 'Gender_std',\n",
       "       'Region _mean', 'Region _std', ' Sale of Equipment Status_mean',\n",
       "       ' Sale of Equipment Status_std', 'Equipment Warranty_mean',\n",
       "       'Equipment Warranty_std', 'Salary Slab_mean', 'Salary Slab_std',\n",
       "       'Professional Info_mean', 'Professional Info_std', 'Age of Home_mean',\n",
       "       'Age of Home_std', 'Mode_mean', 'Mode_std'],\n",
       "      dtype='object')"
      ]
     },
     "execution_count": 121,
     "metadata": {},
     "output_type": "execute_result"
    }
   ],
   "source": [
    "data.columns"
   ]
  },
  {
   "cell_type": "code",
   "execution_count": 122,
   "metadata": {
    "collapsed": false
   },
   "outputs": [],
   "source": [
    "del data[\"Professional Info_std\"]"
   ]
  },
  {
   "cell_type": "code",
   "execution_count": 123,
   "metadata": {
    "collapsed": true
   },
   "outputs": [],
   "source": [
    "data.to_csv(\"Modified_Data.csv\", index= False)"
   ]
  },
  {
   "cell_type": "code",
   "execution_count": 124,
   "metadata": {
    "collapsed": false
   },
   "outputs": [
    {
     "data": {
      "text/plain": [
       "Account Number                                 0\n",
       "Age                                            0\n",
       "Defaults                                       0\n",
       "Last_Month_Payment                             0\n",
       "Average_of_payment_of_last_two_month           0\n",
       "Average_of_payment_of_last_three_month         0\n",
       "Last_Month_Default                             0\n",
       "Average_of_default_of_last_two_month           0\n",
       "Average_of_default_of_last_three_month         0\n",
       "Initial_Level_Tech                             0\n",
       "Account                                        0\n",
       "Payment_Settlement                             0\n",
       "Utilities                                      0\n",
       "Operational_Capabilities                       0\n",
       "Initial_Level_Payment_Settlement               0\n",
       "Limit_Defaults                                 0\n",
       "Last_Month_used_pattern                        0\n",
       "Average_of_used_pattern_of_last_two_month      0\n",
       "Average_of_used_pattern_of_last_three_month    0\n",
       "Last_Month_Post_Limit                          0\n",
       "Average_of_Post_Limit_of_last_two_month        0\n",
       "Average_of_Post_Limit_of_last_three_month      0\n",
       "Last_MOnth_data_used                           0\n",
       "Average_of_data_used_of_last_two_month         0\n",
       "Average_of_data_used_of_last_three_month       0\n",
       "Churn                                          0\n",
       "Time_period                                    0\n",
       "Contract_Time_Remaining                        0\n",
       "Address_mean                                   0\n",
       "Address_std                                    0\n",
       "Scheme_mean                                    0\n",
       "Scheme_std                                     0\n",
       "Staus_mean                                     0\n",
       "Staus_std                                      0\n",
       "Gender_mean                                    0\n",
       "Gender_std                                     0\n",
       "Region _mean                                   0\n",
       "Region _std                                    0\n",
       " Sale of Equipment Status_mean                 0\n",
       " Sale of Equipment Status_std                  0\n",
       "Equipment Warranty_mean                        0\n",
       "Equipment Warranty_std                         0\n",
       "Salary Slab_mean                               0\n",
       "Salary Slab_std                                0\n",
       "Professional Info_mean                         0\n",
       "Age of Home_mean                               0\n",
       "Age of Home_std                                0\n",
       "Mode_mean                                      0\n",
       "Mode_std                                       0\n",
       "dtype: int64"
      ]
     },
     "execution_count": 124,
     "metadata": {},
     "output_type": "execute_result"
    }
   ],
   "source": [
    "data.isnull().sum()"
   ]
  },
  {
   "cell_type": "code",
   "execution_count": null,
   "metadata": {
    "collapsed": true
   },
   "outputs": [],
   "source": []
  },
  {
   "cell_type": "code",
   "execution_count": null,
   "metadata": {
    "collapsed": true
   },
   "outputs": [],
   "source": []
  },
  {
   "cell_type": "code",
   "execution_count": null,
   "metadata": {
    "collapsed": true
   },
   "outputs": [],
   "source": []
  },
  {
   "cell_type": "code",
   "execution_count": 125,
   "metadata": {
    "collapsed": true
   },
   "outputs": [],
   "source": [
    "#no"
   ]
  }
 ],
 "metadata": {
  "anaconda-cloud": {},
  "kernelspec": {
   "display_name": "Python [conda root]",
   "language": "python",
   "name": "conda-root-py"
  },
  "language_info": {
   "codemirror_mode": {
    "name": "ipython",
    "version": 3
   },
   "file_extension": ".py",
   "mimetype": "text/x-python",
   "name": "python",
   "nbconvert_exporter": "python",
   "pygments_lexer": "ipython3",
   "version": "3.5.2"
  }
 },
 "nbformat": 4,
 "nbformat_minor": 1
}
