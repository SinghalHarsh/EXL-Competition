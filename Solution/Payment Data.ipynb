{
 "cells": [
  {
   "cell_type": "code",
   "execution_count": 20,
   "metadata": {
    "collapsed": true
   },
   "outputs": [],
   "source": [
    "import pandas as pd\n",
    "import matplotlib.pyplot as plt\n",
    "%matplotlib inline\n",
    "import seaborn as sns\n",
    "import numpy as np"
   ]
  },
  {
   "cell_type": "code",
   "execution_count": 21,
   "metadata": {
    "collapsed": false
   },
   "outputs": [
    {
     "name": "stderr",
     "output_type": "stream",
     "text": [
      "C:\\Users\\HARSH\\Anaconda3\\lib\\site-packages\\matplotlib\\__init__.py:878: UserWarning: axes.color_cycle is deprecated and replaced with axes.prop_cycle; please use the latter.\n",
      "  warnings.warn(self.msg_depr % (key, alt_key))\n"
     ]
    }
   ],
   "source": [
    "from matplotlib import rcParams\n",
    "#colorbrewer2 Dark2 qualitative color table\n",
    "dark2_colors = [(0.10588235294117647, 0.6196078431372549, 0.4666666666666667),\n",
    "                (0.8509803921568627, 0.37254901960784315, 0.00784313725490196),\n",
    "                (0.4588235294117647, 0.4392156862745098, 0.7019607843137254),\n",
    "                (0.9058823529411765, 0.1607843137254902, 0.5411764705882353),\n",
    "                (0.4, 0.6509803921568628, 0.11764705882352941),\n",
    "                (0.9019607843137255, 0.6705882352941176, 0.00784313725490196),\n",
    "                (0.6509803921568628, 0.4627450980392157, 0.11372549019607843)]\n",
    "\n",
    "rcParams['figure.figsize'] = (8, 3)\n",
    "rcParams['figure.dpi'] = 150\n",
    "rcParams['axes.color_cycle'] = dark2_colors\n",
    "rcParams['lines.linewidth'] = 2\n",
    "rcParams['font.size'] = 14\n",
    "rcParams['patch.edgecolor'] = 'white'\n",
    "rcParams['patch.facecolor'] = dark2_colors[0]\n",
    "rcParams['font.family'] = 'StixGeneral'\n",
    "rcParams['axes.grid'] = True\n",
    "rcParams['axes.facecolor'] = '#eeeeee'"
   ]
  },
  {
   "cell_type": "code",
   "execution_count": 22,
   "metadata": {
    "collapsed": true
   },
   "outputs": [],
   "source": [
    "data = pd.read_excel('Payment_Data.xlsx')"
   ]
  },
  {
   "cell_type": "code",
   "execution_count": 23,
   "metadata": {
    "collapsed": false
   },
   "outputs": [],
   "source": [
    "data['Realization Date'] = pd.to_datetime(data['Realization Date'], format='%y-%m-%d')\n",
    "\n",
    "data['Year'] = data['Realization Date'].dt.year\n",
    "data['Month'] = data['Realization Date'].dt.month\n",
    "data['Day'] = data['Realization Date'].dt.day"
   ]
  },
  {
   "cell_type": "code",
   "execution_count": 24,
   "metadata": {
    "collapsed": false
   },
   "outputs": [
    {
     "data": {
      "text/html": [
       "<div>\n",
       "<table border=\"1\" class=\"dataframe\">\n",
       "  <thead>\n",
       "    <tr style=\"text-align: right;\">\n",
       "      <th></th>\n",
       "      <th>Account Number</th>\n",
       "      <th>Realization Date</th>\n",
       "      <th>Sum</th>\n",
       "      <th>Mode</th>\n",
       "      <th>Year</th>\n",
       "      <th>Month</th>\n",
       "      <th>Day</th>\n",
       "    </tr>\n",
       "  </thead>\n",
       "  <tbody>\n",
       "    <tr>\n",
       "      <th>40439</th>\n",
       "      <td>V4552</td>\n",
       "      <td>2015-07-03</td>\n",
       "      <td>642.39</td>\n",
       "      <td>Card II TYPE</td>\n",
       "      <td>2015</td>\n",
       "      <td>7</td>\n",
       "      <td>3</td>\n",
       "    </tr>\n",
       "    <tr>\n",
       "      <th>40440</th>\n",
       "      <td>V4553</td>\n",
       "      <td>2015-06-13</td>\n",
       "      <td>682.29</td>\n",
       "      <td>Card II TYPE</td>\n",
       "      <td>2015</td>\n",
       "      <td>6</td>\n",
       "      <td>13</td>\n",
       "    </tr>\n",
       "    <tr>\n",
       "      <th>40441</th>\n",
       "      <td>V4553</td>\n",
       "      <td>2015-05-13</td>\n",
       "      <td>682.29</td>\n",
       "      <td>Card II TYPE</td>\n",
       "      <td>2015</td>\n",
       "      <td>5</td>\n",
       "      <td>13</td>\n",
       "    </tr>\n",
       "    <tr>\n",
       "      <th>40442</th>\n",
       "      <td>V4553</td>\n",
       "      <td>2015-07-13</td>\n",
       "      <td>682.29</td>\n",
       "      <td>Card II TYPE</td>\n",
       "      <td>2015</td>\n",
       "      <td>7</td>\n",
       "      <td>13</td>\n",
       "    </tr>\n",
       "    <tr>\n",
       "      <th>40443</th>\n",
       "      <td>V4554</td>\n",
       "      <td>2015-06-04</td>\n",
       "      <td>728.70</td>\n",
       "      <td>Card II TYPE</td>\n",
       "      <td>2015</td>\n",
       "      <td>6</td>\n",
       "      <td>4</td>\n",
       "    </tr>\n",
       "  </tbody>\n",
       "</table>\n",
       "</div>"
      ],
      "text/plain": [
       "      Account Number Realization Date     Sum          Mode   Year  Month  Day\n",
       "40439          V4552       2015-07-03  642.39   Card II TYPE  2015      7    3\n",
       "40440          V4553       2015-06-13  682.29   Card II TYPE  2015      6   13\n",
       "40441          V4553       2015-05-13  682.29   Card II TYPE  2015      5   13\n",
       "40442          V4553       2015-07-13  682.29   Card II TYPE  2015      7   13\n",
       "40443          V4554       2015-06-04  728.70   Card II TYPE  2015      6    4"
      ]
     },
     "execution_count": 24,
     "metadata": {},
     "output_type": "execute_result"
    }
   ],
   "source": [
    "data.tail()"
   ]
  },
  {
   "cell_type": "code",
   "execution_count": 25,
   "metadata": {
    "collapsed": false
   },
   "outputs": [
    {
     "data": {
      "text/plain": [
       "(array([2015], dtype=int64), array([3, 2, 1, 6, 5, 7], dtype=int64))"
      ]
     },
     "execution_count": 25,
     "metadata": {},
     "output_type": "execute_result"
    }
   ],
   "source": [
    "data[\"Year\"].unique(), data[\"Month\"].unique()"
   ]
  },
  {
   "cell_type": "code",
   "execution_count": 26,
   "metadata": {
    "collapsed": false
   },
   "outputs": [],
   "source": [
    "Month_3=data[(data[\"Month\"]==3) | (data[\"Month\"]==7)][[\"Account Number\",\"Sum\",\"Day\",\"Mode \"]]\n",
    "Month_2=data[(data[\"Month\"]==2) | (data[\"Month\"]==6)][[\"Account Number\",\"Sum\",\"Day\",\"Mode \"]]\n",
    "Month_1=data[(data[\"Month\"]==1) | (data[\"Month\"]==5)][[\"Account Number\",\"Sum\",\"Day\",\"Mode \"]]"
   ]
  },
  {
   "cell_type": "code",
   "execution_count": 27,
   "metadata": {
    "collapsed": false
   },
   "outputs": [
    {
     "data": {
      "text/plain": [
       "Index(['Account Number', 'Sum', 'Day', 'Mode '], dtype='object')"
      ]
     },
     "execution_count": 27,
     "metadata": {},
     "output_type": "execute_result"
    }
   ],
   "source": [
    "Month_3.columns"
   ]
  },
  {
   "cell_type": "code",
   "execution_count": null,
   "metadata": {
    "collapsed": true
   },
   "outputs": [],
   "source": []
  },
  {
   "cell_type": "code",
   "execution_count": 28,
   "metadata": {
    "collapsed": false
   },
   "outputs": [],
   "source": [
    "f = {'Sum':['sum'], 'Day':lambda y:int(y.mean()),\"Mode \":lambda x:x.value_counts().index[0]}\n",
    "Month_1=Month_1.groupby([\"Account Number\"],as_index=False).agg(f)\n",
    "Month_2=Month_2.groupby([\"Account Number\"],as_index=False).agg(f)\n",
    "Month_3=Month_3.groupby([\"Account Number\"],as_index=False).agg(f)"
   ]
  },
  {
   "cell_type": "code",
   "execution_count": 29,
   "metadata": {
    "collapsed": false
   },
   "outputs": [
    {
     "data": {
      "text/plain": [
       "MultiIndex(levels=[['Sum', 'Mode ', 'Day', 'Account Number'], ['<lambda>', 'sum', '']],\n",
       "           labels=[[3, 0, 1, 2], [2, 1, 0, 0]])"
      ]
     },
     "execution_count": 29,
     "metadata": {},
     "output_type": "execute_result"
    }
   ],
   "source": [
    "Month_1.columns"
   ]
  },
  {
   "cell_type": "code",
   "execution_count": 30,
   "metadata": {
    "collapsed": true
   },
   "outputs": [],
   "source": [
    "Month_1.columns=[\"Account Number\",\"Mode_Month_1\",\"Sum_Month_1\",\"Day_Month_1\"]\n",
    "Month_2.columns=[\"Account Number\",\"Mode_Month_2\",\"Sum_Month_2\",\"Day_Month_2\"]\n",
    "Month_3.columns=[\"Account Number\",\"Mode_Month_3\",\"Sum_Month_3\",\"Day_Month_3\"]"
   ]
  },
  {
   "cell_type": "code",
   "execution_count": 31,
   "metadata": {
    "collapsed": false
   },
   "outputs": [
    {
     "data": {
      "text/plain": [
       "((13355, 4), (12277, 4), (12693, 4))"
      ]
     },
     "execution_count": 31,
     "metadata": {},
     "output_type": "execute_result"
    }
   ],
   "source": [
    "Month_3.shape, Month_2.shape, Month_1.shape"
   ]
  },
  {
   "cell_type": "code",
   "execution_count": 32,
   "metadata": {
    "collapsed": false
   },
   "outputs": [],
   "source": [
    "main1= pd.merge(Month_1, Month_2, on=\"Account Number\",how=\"outer\")\n",
    "main=pd.merge(Month_3, main1, on=\"Account Number\", how=\"outer\" )"
   ]
  },
  {
   "cell_type": "code",
   "execution_count": 33,
   "metadata": {
    "collapsed": false
   },
   "outputs": [
    {
     "data": {
      "text/plain": [
       "M7241    1\n",
       "M3846    1\n",
       "V3742    1\n",
       "M6386    1\n",
       "V3186    1\n",
       "M9534    1\n",
       "V4362    1\n",
       "M8659    1\n",
       "M3821    1\n",
       "M7507    1\n",
       "M521     1\n",
       "M4598    1\n",
       "M957     1\n",
       "M4208    1\n",
       "M6501    1\n",
       "V3183    1\n",
       "M3077    1\n",
       "V4303    1\n",
       "M2239    1\n",
       "V1903    1\n",
       "V2504    1\n",
       "M4151    1\n",
       "V3873    1\n",
       "M7076    1\n",
       "V1741    1\n",
       "V1676    1\n",
       "M4446    1\n",
       "V3154    1\n",
       "M8694    1\n",
       "V4328    1\n",
       "        ..\n",
       "M9960    1\n",
       "M2412    1\n",
       "M2101    1\n",
       "V391     1\n",
       "M1880    1\n",
       "M7234    1\n",
       "V1568    1\n",
       "M1035    1\n",
       "V3859    1\n",
       "M9024    1\n",
       "M9321    1\n",
       "M516     1\n",
       "M8199    1\n",
       "M881     1\n",
       "M3390    1\n",
       "V4511    1\n",
       "M8610    1\n",
       "M7800    1\n",
       "M597     1\n",
       "V708     1\n",
       "V370     1\n",
       "M5015    1\n",
       "M5218    1\n",
       "V1365    1\n",
       "M5900    1\n",
       "V2381    1\n",
       "M2819    1\n",
       "V1384    1\n",
       "M980     1\n",
       "M8252    1\n",
       "Name: Account Number, dtype: int64"
      ]
     },
     "execution_count": 33,
     "metadata": {},
     "output_type": "execute_result"
    }
   ],
   "source": [
    "main[\"Account Number\"].value_counts()"
   ]
  },
  {
   "cell_type": "code",
   "execution_count": 34,
   "metadata": {
    "collapsed": false
   },
   "outputs": [],
   "source": [
    "main.to_csv('Payment.csv', index=False)"
   ]
  },
  {
   "cell_type": "code",
   "execution_count": 35,
   "metadata": {
    "collapsed": false
   },
   "outputs": [
    {
     "data": {
      "text/html": [
       "<div>\n",
       "<table border=\"1\" class=\"dataframe\">\n",
       "  <thead>\n",
       "    <tr style=\"text-align: right;\">\n",
       "      <th></th>\n",
       "      <th>Account Number</th>\n",
       "      <th>Mode_Month_3</th>\n",
       "      <th>Sum_Month_3</th>\n",
       "      <th>Day_Month_3</th>\n",
       "      <th>Mode_Month_1</th>\n",
       "      <th>Sum_Month_1</th>\n",
       "      <th>Day_Month_1</th>\n",
       "      <th>Mode_Month_2</th>\n",
       "      <th>Sum_Month_2</th>\n",
       "      <th>Day_Month_2</th>\n",
       "    </tr>\n",
       "  </thead>\n",
       "  <tbody>\n",
       "    <tr>\n",
       "      <th>12805</th>\n",
       "      <td>V4533</td>\n",
       "      <td>1428.945</td>\n",
       "      <td>Card I TYPE</td>\n",
       "      <td>30.0</td>\n",
       "      <td>775.635</td>\n",
       "      <td>Card I TYPE</td>\n",
       "      <td>30.0</td>\n",
       "      <td>832.965</td>\n",
       "      <td>Card I TYPE</td>\n",
       "      <td>30.0</td>\n",
       "    </tr>\n",
       "  </tbody>\n",
       "</table>\n",
       "</div>"
      ],
      "text/plain": [
       "      Account Number  Mode_Month_3   Sum_Month_3  Day_Month_3  Mode_Month_1  \\\n",
       "12805          V4533      1428.945   Card I TYPE         30.0       775.635   \n",
       "\n",
       "        Sum_Month_1  Day_Month_1  Mode_Month_2   Sum_Month_2  Day_Month_2  \n",
       "12805   Card I TYPE         30.0       832.965   Card I TYPE         30.0  "
      ]
     },
     "execution_count": 35,
     "metadata": {},
     "output_type": "execute_result"
    }
   ],
   "source": [
    "main[main[\"Account Number\"]==\"V4533\"]"
   ]
  },
  {
   "cell_type": "code",
   "execution_count": 36,
   "metadata": {
    "collapsed": false
   },
   "outputs": [
    {
     "data": {
      "text/plain": [
       "Account Number            M5971\n",
       "Mode_Month_3            1724.31\n",
       "Sum_Month_3        Card II TYPE\n",
       "Day_Month_3                  22\n",
       "Mode_Month_1            3271.06\n",
       "Sum_Month_1        Card II TYPE\n",
       "Day_Month_1                  22\n",
       "Mode_Month_2            1724.31\n",
       "Sum_Month_2        Card II TYPE\n",
       "Day_Month_2                  22\n",
       "Name: 5000, dtype: object"
      ]
     },
     "execution_count": 36,
     "metadata": {},
     "output_type": "execute_result"
    }
   ],
   "source": [
    "main.iloc[5000]"
   ]
  },
  {
   "cell_type": "code",
   "execution_count": 37,
   "metadata": {
    "collapsed": false
   },
   "outputs": [
    {
     "data": {
      "text/plain": [
       "Index(['Account Number', 'Mode_Month_3', 'Sum_Month_3', 'Day_Month_3',\n",
       "       'Mode_Month_1', 'Sum_Month_1', 'Day_Month_1', 'Mode_Month_2',\n",
       "       'Sum_Month_2', 'Day_Month_2'],\n",
       "      dtype='object')"
      ]
     },
     "execution_count": 37,
     "metadata": {},
     "output_type": "execute_result"
    }
   ],
   "source": [
    "main.columns"
   ]
  },
  {
   "cell_type": "code",
   "execution_count": null,
   "metadata": {
    "collapsed": true
   },
   "outputs": [],
   "source": []
  },
  {
   "cell_type": "code",
   "execution_count": null,
   "metadata": {
    "collapsed": true
   },
   "outputs": [],
   "source": []
  },
  {
   "cell_type": "code",
   "execution_count": null,
   "metadata": {
    "collapsed": true
   },
   "outputs": [],
   "source": []
  },
  {
   "cell_type": "code",
   "execution_count": null,
   "metadata": {
    "collapsed": true
   },
   "outputs": [],
   "source": []
  },
  {
   "cell_type": "code",
   "execution_count": 38,
   "metadata": {
    "collapsed": true
   },
   "outputs": [],
   "source": [
    "#no"
   ]
  }
 ],
 "metadata": {
  "kernelspec": {
   "display_name": "Python [conda root]",
   "language": "python",
   "name": "conda-root-py"
  },
  "language_info": {
   "codemirror_mode": {
    "name": "ipython",
    "version": 3
   },
   "file_extension": ".py",
   "mimetype": "text/x-python",
   "name": "python",
   "nbconvert_exporter": "python",
   "pygments_lexer": "ipython3",
   "version": "3.5.2"
  }
 },
 "nbformat": 4,
 "nbformat_minor": 1
}
