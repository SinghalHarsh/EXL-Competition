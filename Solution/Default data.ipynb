{
 "cells": [
  {
   "cell_type": "code",
   "execution_count": 17,
   "metadata": {
    "collapsed": false
   },
   "outputs": [],
   "source": [
    "import pandas as pd\n",
    "import matplotlib.pyplot as plt\n",
    "%matplotlib inline\n",
    "import seaborn as sns\n",
    "import numpy as np"
   ]
  },
  {
   "cell_type": "code",
   "execution_count": 33,
   "metadata": {
    "collapsed": false
   },
   "outputs": [
    {
     "name": "stderr",
     "output_type": "stream",
     "text": [
      "C:\\Users\\HARSH\\Anaconda3\\lib\\site-packages\\matplotlib\\__init__.py:878: UserWarning: axes.color_cycle is deprecated and replaced with axes.prop_cycle; please use the latter.\n",
      "  warnings.warn(self.msg_depr % (key, alt_key))\n"
     ]
    }
   ],
   "source": [
    "from matplotlib import rcParams\n",
    "#colorbrewer2 Dark2 qualitative color table\n",
    "dark2_colors = [(0.10588235294117647, 0.6196078431372549, 0.4666666666666667),\n",
    "                (0.8509803921568627, 0.37254901960784315, 0.00784313725490196),\n",
    "                (0.4588235294117647, 0.4392156862745098, 0.7019607843137254),\n",
    "                (0.9058823529411765, 0.1607843137254902, 0.5411764705882353),\n",
    "                (0.4, 0.6509803921568628, 0.11764705882352941),\n",
    "                (0.9019607843137255, 0.6705882352941176, 0.00784313725490196),\n",
    "                (0.6509803921568628, 0.4627450980392157, 0.11372549019607843)]\n",
    "\n",
    "rcParams['figure.figsize'] = (8, 3)\n",
    "rcParams['figure.dpi'] = 150\n",
    "rcParams['axes.color_cycle'] = dark2_colors\n",
    "rcParams['lines.linewidth'] = 2\n",
    "rcParams['font.size'] = 14\n",
    "rcParams['patch.edgecolor'] = 'white'\n",
    "rcParams['patch.facecolor'] = dark2_colors[0]\n",
    "rcParams['font.family'] = 'StixGeneral'\n",
    "rcParams['axes.grid'] = True\n",
    "rcParams['axes.facecolor'] = '#eeeeee'"
   ]
  },
  {
   "cell_type": "code",
   "execution_count": 34,
   "metadata": {
    "collapsed": true
   },
   "outputs": [],
   "source": [
    "data = pd.read_excel('Default Data.xlsx')"
   ]
  },
  {
   "cell_type": "code",
   "execution_count": 35,
   "metadata": {
    "collapsed": true
   },
   "outputs": [],
   "source": [
    "data[\"date of default\"] = pd.to_datetime(data['date of default'], format='%y-%m-%d')\n",
    "\n",
    "data['Month'] = data['date of default'].dt.month\n",
    "data['Day'] = data['date of default'].dt.day"
   ]
  },
  {
   "cell_type": "code",
   "execution_count": 36,
   "metadata": {
    "collapsed": false
   },
   "outputs": [
    {
     "data": {
      "text/html": [
       "<div>\n",
       "<table border=\"1\" class=\"dataframe\">\n",
       "  <thead>\n",
       "    <tr style=\"text-align: right;\">\n",
       "      <th></th>\n",
       "      <th>Account Number</th>\n",
       "      <th>date of default</th>\n",
       "      <th>Default sum</th>\n",
       "      <th>Month</th>\n",
       "      <th>Day</th>\n",
       "    </tr>\n",
       "  </thead>\n",
       "  <tbody>\n",
       "    <tr>\n",
       "      <th>0</th>\n",
       "      <td>M100</td>\n",
       "      <td>2015-02-25</td>\n",
       "      <td>1037.2</td>\n",
       "      <td>2</td>\n",
       "      <td>25</td>\n",
       "    </tr>\n",
       "    <tr>\n",
       "      <th>1</th>\n",
       "      <td>M104</td>\n",
       "      <td>2015-03-13</td>\n",
       "      <td>611.8</td>\n",
       "      <td>3</td>\n",
       "      <td>13</td>\n",
       "    </tr>\n",
       "    <tr>\n",
       "      <th>2</th>\n",
       "      <td>M114</td>\n",
       "      <td>2015-03-07</td>\n",
       "      <td>2193.5</td>\n",
       "      <td>3</td>\n",
       "      <td>7</td>\n",
       "    </tr>\n",
       "    <tr>\n",
       "      <th>3</th>\n",
       "      <td>M125</td>\n",
       "      <td>2015-03-02</td>\n",
       "      <td>507.8</td>\n",
       "      <td>3</td>\n",
       "      <td>2</td>\n",
       "    </tr>\n",
       "    <tr>\n",
       "      <th>4</th>\n",
       "      <td>M132</td>\n",
       "      <td>2015-02-27</td>\n",
       "      <td>1405.5</td>\n",
       "      <td>2</td>\n",
       "      <td>27</td>\n",
       "    </tr>\n",
       "  </tbody>\n",
       "</table>\n",
       "</div>"
      ],
      "text/plain": [
       "  Account Number date of default  Default sum  Month  Day\n",
       "0           M100      2015-02-25       1037.2      2   25\n",
       "1           M104      2015-03-13        611.8      3   13\n",
       "2           M114      2015-03-07       2193.5      3    7\n",
       "3           M125      2015-03-02        507.8      3    2\n",
       "4           M132      2015-02-27       1405.5      2   27"
      ]
     },
     "execution_count": 36,
     "metadata": {},
     "output_type": "execute_result"
    }
   ],
   "source": [
    "data.head()"
   ]
  },
  {
   "cell_type": "code",
   "execution_count": 37,
   "metadata": {
    "collapsed": false
   },
   "outputs": [],
   "source": [
    "Month_3=data[(data[\"Month\"]==3) | (data[\"Month\"]==7)][[\"Account Number\",\"Default sum\",\"Day\"]]\n",
    "Month_2=data[(data[\"Month\"]==2) | (data[\"Month\"]==6)][[\"Account Number\",\"Default sum\",\"Day\"]]\n",
    "Month_1=data[(data[\"Month\"]==1) | (data[\"Month\"]==5)][[\"Account Number\",\"Default sum\",\"Day\"]]"
   ]
  },
  {
   "cell_type": "code",
   "execution_count": 38,
   "metadata": {
    "collapsed": false
   },
   "outputs": [],
   "source": [
    "f = {'Default sum':['sum'], 'Day':lambda y:int(y.mean())}\n",
    "Month_1=Month_1.groupby([\"Account Number\"],as_index=False).agg(f)\n",
    "Month_2=Month_2.groupby([\"Account Number\"],as_index=False).agg(f)\n",
    "Month_3=Month_3.groupby([\"Account Number\"],as_index=False).agg(f)"
   ]
  },
  {
   "cell_type": "code",
   "execution_count": 39,
   "metadata": {
    "collapsed": true
   },
   "outputs": [],
   "source": [
    "Month_1.columns=[\"Account Number\",\"Default_sum_Month_1\",\"Day_Month_1\"]\n",
    "Month_2.columns=[\"Account Number\",\"Default_sum_Month_2\",\"Day_Month_2\"]\n",
    "Month_3.columns=[\"Account Number\",\"Default_sum_Month_3\",\"Day_Month_3\"]"
   ]
  },
  {
   "cell_type": "code",
   "execution_count": 40,
   "metadata": {
    "collapsed": true
   },
   "outputs": [],
   "source": [
    "main1= pd.merge(Month_1, Month_2, on=\"Account Number\",how=\"outer\")\n",
    "main=pd.merge(Month_3, main1, on=\"Account Number\", how=\"outer\" )\n",
    "main=main.sort_index()"
   ]
  },
  {
   "cell_type": "code",
   "execution_count": 41,
   "metadata": {
    "collapsed": false
   },
   "outputs": [
    {
     "data": {
      "text/plain": [
       "((762, 3), (781, 3), (915, 3), (1731, 7))"
      ]
     },
     "execution_count": 41,
     "metadata": {},
     "output_type": "execute_result"
    }
   ],
   "source": [
    "Month_1.shape, Month_2.shape, Month_3.shape, main.shape"
   ]
  },
  {
   "cell_type": "code",
   "execution_count": 42,
   "metadata": {
    "collapsed": false
   },
   "outputs": [
    {
     "data": {
      "text/html": [
       "<div>\n",
       "<table border=\"1\" class=\"dataframe\">\n",
       "  <thead>\n",
       "    <tr style=\"text-align: right;\">\n",
       "      <th></th>\n",
       "      <th>Account Number</th>\n",
       "      <th>Default_sum_Month_3</th>\n",
       "      <th>Day_Month_3</th>\n",
       "      <th>Default_sum_Month_1</th>\n",
       "      <th>Day_Month_1</th>\n",
       "      <th>Default_sum_Month_2</th>\n",
       "      <th>Day_Month_2</th>\n",
       "    </tr>\n",
       "  </thead>\n",
       "  <tbody>\n",
       "    <tr>\n",
       "      <th>0</th>\n",
       "      <td>M1002</td>\n",
       "      <td>10.0</td>\n",
       "      <td>938.4</td>\n",
       "      <td>8.0</td>\n",
       "      <td>938.4</td>\n",
       "      <td>8.0</td>\n",
       "      <td>938.4</td>\n",
       "    </tr>\n",
       "    <tr>\n",
       "      <th>1</th>\n",
       "      <td>M1039</td>\n",
       "      <td>12.0</td>\n",
       "      <td>735.8</td>\n",
       "      <td>NaN</td>\n",
       "      <td>NaN</td>\n",
       "      <td>12.0</td>\n",
       "      <td>1066.8</td>\n",
       "    </tr>\n",
       "    <tr>\n",
       "      <th>2</th>\n",
       "      <td>M104</td>\n",
       "      <td>13.0</td>\n",
       "      <td>611.8</td>\n",
       "      <td>NaN</td>\n",
       "      <td>NaN</td>\n",
       "      <td>NaN</td>\n",
       "      <td>NaN</td>\n",
       "    </tr>\n",
       "    <tr>\n",
       "      <th>3</th>\n",
       "      <td>M1045</td>\n",
       "      <td>31.0</td>\n",
       "      <td>649.8</td>\n",
       "      <td>NaN</td>\n",
       "      <td>NaN</td>\n",
       "      <td>NaN</td>\n",
       "      <td>NaN</td>\n",
       "    </tr>\n",
       "    <tr>\n",
       "      <th>4</th>\n",
       "      <td>M1086</td>\n",
       "      <td>12.0</td>\n",
       "      <td>774.4</td>\n",
       "      <td>NaN</td>\n",
       "      <td>NaN</td>\n",
       "      <td>NaN</td>\n",
       "      <td>NaN</td>\n",
       "    </tr>\n",
       "  </tbody>\n",
       "</table>\n",
       "</div>"
      ],
      "text/plain": [
       "  Account Number  Default_sum_Month_3  Day_Month_3  Default_sum_Month_1  \\\n",
       "0          M1002                 10.0        938.4                  8.0   \n",
       "1          M1039                 12.0        735.8                  NaN   \n",
       "2           M104                 13.0        611.8                  NaN   \n",
       "3          M1045                 31.0        649.8                  NaN   \n",
       "4          M1086                 12.0        774.4                  NaN   \n",
       "\n",
       "   Day_Month_1  Default_sum_Month_2  Day_Month_2  \n",
       "0        938.4                  8.0        938.4  \n",
       "1          NaN                 12.0       1066.8  \n",
       "2          NaN                  NaN          NaN  \n",
       "3          NaN                  NaN          NaN  \n",
       "4          NaN                  NaN          NaN  "
      ]
     },
     "execution_count": 42,
     "metadata": {},
     "output_type": "execute_result"
    }
   ],
   "source": [
    "main.head()"
   ]
  },
  {
   "cell_type": "code",
   "execution_count": 43,
   "metadata": {
    "collapsed": false
   },
   "outputs": [
    {
     "data": {
      "text/html": [
       "<div>\n",
       "<table border=\"1\" class=\"dataframe\">\n",
       "  <thead>\n",
       "    <tr style=\"text-align: right;\">\n",
       "      <th></th>\n",
       "      <th>Account Number</th>\n",
       "      <th>Default_sum_Month_3</th>\n",
       "      <th>Day_Month_3</th>\n",
       "      <th>Default_sum_Month_1</th>\n",
       "      <th>Day_Month_1</th>\n",
       "      <th>Default_sum_Month_2</th>\n",
       "      <th>Day_Month_2</th>\n",
       "    </tr>\n",
       "  </thead>\n",
       "  <tbody>\n",
       "    <tr>\n",
       "      <th>874</th>\n",
       "      <td>V3956</td>\n",
       "      <td>9.0</td>\n",
       "      <td>862.6</td>\n",
       "      <td>9.0</td>\n",
       "      <td>855.2</td>\n",
       "      <td>NaN</td>\n",
       "      <td>NaN</td>\n",
       "    </tr>\n",
       "  </tbody>\n",
       "</table>\n",
       "</div>"
      ],
      "text/plain": [
       "    Account Number  Default_sum_Month_3  Day_Month_3  Default_sum_Month_1  \\\n",
       "874          V3956                  9.0        862.6                  9.0   \n",
       "\n",
       "     Day_Month_1  Default_sum_Month_2  Day_Month_2  \n",
       "874        855.2                  NaN          NaN  "
      ]
     },
     "execution_count": 43,
     "metadata": {},
     "output_type": "execute_result"
    }
   ],
   "source": [
    "main[main[\"Account Number\"]==\"V3956\"]"
   ]
  },
  {
   "cell_type": "code",
   "execution_count": 29,
   "metadata": {
    "collapsed": false
   },
   "outputs": [
    {
     "data": {
      "text/plain": [
       "(1731, 7)"
      ]
     },
     "execution_count": 29,
     "metadata": {},
     "output_type": "execute_result"
    }
   ],
   "source": [
    "main.shape"
   ]
  },
  {
   "cell_type": "code",
   "execution_count": 30,
   "metadata": {
    "collapsed": false
   },
   "outputs": [
    {
     "data": {
      "text/plain": [
       "V610     1\n",
       "M6208    1\n",
       "M6908    1\n",
       "V2412    1\n",
       "V2632    1\n",
       "M1673    1\n",
       "M2536    1\n",
       "M8769    1\n",
       "M3203    1\n",
       "M9902    1\n",
       "M1374    1\n",
       "M323     1\n",
       "M5982    1\n",
       "M7819    1\n",
       "V1475    1\n",
       "V1410    1\n",
       "M4643    1\n",
       "M3305    1\n",
       "M4229    1\n",
       "V2176    1\n",
       "V3550    1\n",
       "V1359    1\n",
       "M6054    1\n",
       "M6930    1\n",
       "M9096    1\n",
       "M7957    1\n",
       "M8092    1\n",
       "M2266    1\n",
       "M3563    1\n",
       "V2854    1\n",
       "        ..\n",
       "V1576    1\n",
       "M3556    1\n",
       "M5923    1\n",
       "M5086    1\n",
       "M4123    1\n",
       "M4512    1\n",
       "M8655    1\n",
       "M1976    1\n",
       "M6061    1\n",
       "M9810    1\n",
       "M6340    1\n",
       "M6700    1\n",
       "M2548    1\n",
       "M2418    1\n",
       "M6661    1\n",
       "M4810    1\n",
       "M2790    1\n",
       "V1540    1\n",
       "V2773    1\n",
       "V1219    1\n",
       "M3610    1\n",
       "M7132    1\n",
       "V3067    1\n",
       "M1719    1\n",
       "V810     1\n",
       "M737     1\n",
       "M2517    1\n",
       "V3445    1\n",
       "M3214    1\n",
       "M372     1\n",
       "Name: Account Number, dtype: int64"
      ]
     },
     "execution_count": 30,
     "metadata": {},
     "output_type": "execute_result"
    }
   ],
   "source": [
    "main[\"Account Number\"].value_counts()"
   ]
  },
  {
   "cell_type": "code",
   "execution_count": 31,
   "metadata": {
    "collapsed": true
   },
   "outputs": [],
   "source": [
    "main.to_csv('Default.csv', index=False)"
   ]
  },
  {
   "cell_type": "code",
   "execution_count": null,
   "metadata": {
    "collapsed": true
   },
   "outputs": [],
   "source": []
  },
  {
   "cell_type": "code",
   "execution_count": 32,
   "metadata": {
    "collapsed": true
   },
   "outputs": [],
   "source": [
    "#no"
   ]
  }
 ],
 "metadata": {
  "kernelspec": {
   "display_name": "Python [conda root]",
   "language": "python",
   "name": "conda-root-py"
  },
  "language_info": {
   "codemirror_mode": {
    "name": "ipython",
    "version": 3
   },
   "file_extension": ".py",
   "mimetype": "text/x-python",
   "name": "python",
   "nbconvert_exporter": "python",
   "pygments_lexer": "ipython3",
   "version": "3.5.2"
  }
 },
 "nbformat": 4,
 "nbformat_minor": 1
}
