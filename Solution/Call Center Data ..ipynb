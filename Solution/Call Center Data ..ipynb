{
 "cells": [
  {
   "cell_type": "code",
   "execution_count": 1,
   "metadata": {
    "collapsed": true
   },
   "outputs": [],
   "source": [
    "import pandas as pd\n",
    "import matplotlib.pyplot as plt\n",
    "%matplotlib inline\n",
    "import seaborn as sns\n",
    "import numpy as np"
   ]
  },
  {
   "cell_type": "code",
   "execution_count": 2,
   "metadata": {
    "collapsed": false
   },
   "outputs": [],
   "source": [
    "data = pd.read_excel('Call Center data ..xlsx')\n",
    "Demographic = pd.read_excel('Demographic_Data.xlsx')"
   ]
  },
  {
   "cell_type": "code",
   "execution_count": 3,
   "metadata": {
    "collapsed": false
   },
   "outputs": [
    {
     "data": {
      "text/plain": [
       "(12674, 3)"
      ]
     },
     "execution_count": 3,
     "metadata": {},
     "output_type": "execute_result"
    }
   ],
   "source": [
    "data.shape"
   ]
  },
  {
   "cell_type": "code",
   "execution_count": 4,
   "metadata": {
    "collapsed": false
   },
   "outputs": [
    {
     "data": {
      "text/html": [
       "<div>\n",
       "<table border=\"1\" class=\"dataframe\">\n",
       "  <thead>\n",
       "    <tr style=\"text-align: right;\">\n",
       "      <th></th>\n",
       "      <th>Account Number</th>\n",
       "      <th>Query Date</th>\n",
       "      <th>Full Statement of the Enquiry</th>\n",
       "    </tr>\n",
       "  </thead>\n",
       "  <tbody>\n",
       "    <tr>\n",
       "      <th>0</th>\n",
       "      <td>M2</td>\n",
       "      <td>2015-03-12</td>\n",
       "      <td>FDAEDBG!-Initial LevelPayment Settlement-Accou...</td>\n",
       "    </tr>\n",
       "    <tr>\n",
       "      <th>1</th>\n",
       "      <td>M2</td>\n",
       "      <td>2015-03-15</td>\n",
       "      <td>FDA!CEGD-Initial LevelTech-Operational Capabil...</td>\n",
       "    </tr>\n",
       "    <tr>\n",
       "      <th>2</th>\n",
       "      <td>M2</td>\n",
       "      <td>2015-03-25</td>\n",
       "      <td>FDCE#GHA-Initial LevelTech-Operational Capabil...</td>\n",
       "    </tr>\n",
       "    <tr>\n",
       "      <th>3</th>\n",
       "      <td>M2</td>\n",
       "      <td>2015-03-28</td>\n",
       "      <td>FDC#FAAD-Initial LevelPayment Settlement-Opera...</td>\n",
       "    </tr>\n",
       "    <tr>\n",
       "      <th>4</th>\n",
       "      <td>M2</td>\n",
       "      <td>2015-03-29</td>\n",
       "      <td>FDC!HGF#-Initial LevelPayment Settlement-Accou...</td>\n",
       "    </tr>\n",
       "  </tbody>\n",
       "</table>\n",
       "</div>"
      ],
      "text/plain": [
       "  Account Number Query Date                      Full Statement of the Enquiry\n",
       "0             M2 2015-03-12  FDAEDBG!-Initial LevelPayment Settlement-Accou...\n",
       "1             M2 2015-03-15  FDA!CEGD-Initial LevelTech-Operational Capabil...\n",
       "2             M2 2015-03-25  FDCE#GHA-Initial LevelTech-Operational Capabil...\n",
       "3             M2 2015-03-28  FDC#FAAD-Initial LevelPayment Settlement-Opera...\n",
       "4             M2 2015-03-29  FDC!HGF#-Initial LevelPayment Settlement-Accou..."
      ]
     },
     "execution_count": 4,
     "metadata": {},
     "output_type": "execute_result"
    }
   ],
   "source": [
    "data.head()"
   ]
  },
  {
   "cell_type": "code",
   "execution_count": 5,
   "metadata": {
    "collapsed": true
   },
   "outputs": [],
   "source": [
    "data['Query Date'] = pd.to_datetime(data['Query Date'], format='%y-%m-%d')\n",
    "data['Month'] = data['Query Date'].dt.month\n",
    "data['Day'] = data['Query Date'].dt.day"
   ]
  },
  {
   "cell_type": "code",
   "execution_count": 6,
   "metadata": {
    "collapsed": false
   },
   "outputs": [],
   "source": [
    "expand=data[\"Full Statement of the Enquiry\"].str.split('-', expand=True)\n",
    "expand.columns=[\"first\", \"second\" , \"third\", \"fourth\", \"fifth\", \"sixth\",\"seventh\"]\n",
    "data=pd.concat([data, expand], axis=1)"
   ]
  },
  {
   "cell_type": "code",
   "execution_count": 7,
   "metadata": {
    "collapsed": false
   },
   "outputs": [
    {
     "data": {
      "text/html": [
       "<div>\n",
       "<table border=\"1\" class=\"dataframe\">\n",
       "  <thead>\n",
       "    <tr style=\"text-align: right;\">\n",
       "      <th></th>\n",
       "      <th>Account Number</th>\n",
       "      <th>Query Date</th>\n",
       "      <th>Full Statement of the Enquiry</th>\n",
       "      <th>Month</th>\n",
       "      <th>Day</th>\n",
       "      <th>first</th>\n",
       "      <th>second</th>\n",
       "      <th>third</th>\n",
       "      <th>fourth</th>\n",
       "      <th>fifth</th>\n",
       "      <th>sixth</th>\n",
       "      <th>seventh</th>\n",
       "    </tr>\n",
       "  </thead>\n",
       "  <tbody>\n",
       "    <tr>\n",
       "      <th>0</th>\n",
       "      <td>M2</td>\n",
       "      <td>2015-03-12</td>\n",
       "      <td>FDAEDBG!-Initial LevelPayment Settlement-Accou...</td>\n",
       "      <td>3</td>\n",
       "      <td>12</td>\n",
       "      <td>FDAEDBG!</td>\n",
       "      <td>Initial LevelPayment Settlement</td>\n",
       "      <td>Account</td>\n",
       "      <td>Change</td>\n",
       "      <td>General Inquiry</td>\n",
       "      <td>None</td>\n",
       "      <td>None</td>\n",
       "    </tr>\n",
       "    <tr>\n",
       "      <th>1</th>\n",
       "      <td>M2</td>\n",
       "      <td>2015-03-15</td>\n",
       "      <td>FDA!CEGD-Initial LevelTech-Operational Capabil...</td>\n",
       "      <td>3</td>\n",
       "      <td>15</td>\n",
       "      <td>FDA!CEGD</td>\n",
       "      <td>Initial LevelTech</td>\n",
       "      <td>Operational Capabilities</td>\n",
       "      <td>Browsing</td>\n",
       "      <td>No Browse</td>\n",
       "      <td>None</td>\n",
       "      <td>None</td>\n",
       "    </tr>\n",
       "    <tr>\n",
       "      <th>2</th>\n",
       "      <td>M2</td>\n",
       "      <td>2015-03-25</td>\n",
       "      <td>FDCE#GHA-Initial LevelTech-Operational Capabil...</td>\n",
       "      <td>3</td>\n",
       "      <td>25</td>\n",
       "      <td>FDCE#GHA</td>\n",
       "      <td>Initial LevelTech</td>\n",
       "      <td>Operational Capabilities</td>\n",
       "      <td>Browsing</td>\n",
       "      <td>No Browse</td>\n",
       "      <td>None</td>\n",
       "      <td>None</td>\n",
       "    </tr>\n",
       "    <tr>\n",
       "      <th>3</th>\n",
       "      <td>M2</td>\n",
       "      <td>2015-03-28</td>\n",
       "      <td>FDC#FAAD-Initial LevelPayment Settlement-Opera...</td>\n",
       "      <td>3</td>\n",
       "      <td>28</td>\n",
       "      <td>FDC#FAAD</td>\n",
       "      <td>Initial LevelPayment Settlement</td>\n",
       "      <td>Operational Capabilities</td>\n",
       "      <td>Browsing</td>\n",
       "      <td>No Browse</td>\n",
       "      <td>None</td>\n",
       "      <td>None</td>\n",
       "    </tr>\n",
       "    <tr>\n",
       "      <th>4</th>\n",
       "      <td>M2</td>\n",
       "      <td>2015-03-29</td>\n",
       "      <td>FDC!HGF#-Initial LevelPayment Settlement-Accou...</td>\n",
       "      <td>3</td>\n",
       "      <td>29</td>\n",
       "      <td>FDC!HGF#</td>\n",
       "      <td>Initial LevelPayment Settlement</td>\n",
       "      <td>Account</td>\n",
       "      <td>General Information</td>\n",
       "      <td>Equipment Return</td>\n",
       "      <td>None</td>\n",
       "      <td>None</td>\n",
       "    </tr>\n",
       "  </tbody>\n",
       "</table>\n",
       "</div>"
      ],
      "text/plain": [
       "  Account Number Query Date  \\\n",
       "0             M2 2015-03-12   \n",
       "1             M2 2015-03-15   \n",
       "2             M2 2015-03-25   \n",
       "3             M2 2015-03-28   \n",
       "4             M2 2015-03-29   \n",
       "\n",
       "                       Full Statement of the Enquiry  Month  Day     first  \\\n",
       "0  FDAEDBG!-Initial LevelPayment Settlement-Accou...      3   12  FDAEDBG!   \n",
       "1  FDA!CEGD-Initial LevelTech-Operational Capabil...      3   15  FDA!CEGD   \n",
       "2  FDCE#GHA-Initial LevelTech-Operational Capabil...      3   25  FDCE#GHA   \n",
       "3  FDC#FAAD-Initial LevelPayment Settlement-Opera...      3   28  FDC#FAAD   \n",
       "4  FDC!HGF#-Initial LevelPayment Settlement-Accou...      3   29  FDC!HGF#   \n",
       "\n",
       "                            second                     third  \\\n",
       "0  Initial LevelPayment Settlement                   Account   \n",
       "1                Initial LevelTech  Operational Capabilities   \n",
       "2                Initial LevelTech  Operational Capabilities   \n",
       "3  Initial LevelPayment Settlement  Operational Capabilities   \n",
       "4  Initial LevelPayment Settlement                   Account   \n",
       "\n",
       "                fourth             fifth sixth seventh  \n",
       "0               Change   General Inquiry  None    None  \n",
       "1             Browsing         No Browse  None    None  \n",
       "2             Browsing         No Browse  None    None  \n",
       "3             Browsing         No Browse  None    None  \n",
       "4  General Information  Equipment Return  None    None  "
      ]
     },
     "execution_count": 7,
     "metadata": {},
     "output_type": "execute_result"
    }
   ],
   "source": [
    "data.head()"
   ]
  },
  {
   "cell_type": "code",
   "execution_count": 8,
   "metadata": {
    "collapsed": false
   },
   "outputs": [
    {
     "data": {
      "text/plain": [
       "Account                      3391\n",
       "Operational Capabilities     3109\n",
       "Payment Settlement           3019\n",
       "No support / Third Party     1001\n",
       "Utilities                     795\n",
       "Generic                       388\n",
       "Service Order                 381\n",
       "Outbound                      206\n",
       "ABC#$@ Communication          187\n",
       "Pre                            51\n",
       "Retail Support                 42\n",
       "Order Modification             28\n",
       "Product                        16\n",
       "Order Cancellation             16\n",
       "Ent. Payment Settlement        11\n",
       "Affiliate/Partner               9\n",
       "Satellite Install Support       8\n",
       "ECC Generic                     6\n",
       "Refer                           4\n",
       "CSAT Survey                     2\n",
       "Repair Support                  2\n",
       "Ent. Tech Support               1\n",
       "                                1\n",
       "Name: third, dtype: int64"
      ]
     },
     "execution_count": 8,
     "metadata": {},
     "output_type": "execute_result"
    }
   ],
   "source": [
    "data.third.value_counts()"
   ]
  },
  {
   "cell_type": "code",
   "execution_count": 9,
   "metadata": {
    "collapsed": false
   },
   "outputs": [],
   "source": [
    "del data[\"seventh\"], data[\"sixth\"], data[\"fifth\"], data[\"fourth\"], data[\"Full Statement of the Enquiry\"], data[\"first\"]"
   ]
  },
  {
   "cell_type": "markdown",
   "metadata": {},
   "source": [
    "Look upon the third one "
   ]
  },
  {
   "cell_type": "code",
   "execution_count": 141,
   "metadata": {
    "collapsed": false
   },
   "outputs": [],
   "source": [
    "#del data[\"third\"]"
   ]
  },
  {
   "cell_type": "code",
   "execution_count": 10,
   "metadata": {
    "collapsed": false
   },
   "outputs": [
    {
     "data": {
      "text/html": [
       "<div>\n",
       "<table border=\"1\" class=\"dataframe\">\n",
       "  <thead>\n",
       "    <tr style=\"text-align: right;\">\n",
       "      <th></th>\n",
       "      <th>Account Number</th>\n",
       "      <th>Query Date</th>\n",
       "      <th>Month</th>\n",
       "      <th>Day</th>\n",
       "      <th>second</th>\n",
       "      <th>third</th>\n",
       "    </tr>\n",
       "  </thead>\n",
       "  <tbody>\n",
       "    <tr>\n",
       "      <th>0</th>\n",
       "      <td>M2</td>\n",
       "      <td>2015-03-12</td>\n",
       "      <td>3</td>\n",
       "      <td>12</td>\n",
       "      <td>Initial LevelPayment Settlement</td>\n",
       "      <td>Account</td>\n",
       "    </tr>\n",
       "    <tr>\n",
       "      <th>1</th>\n",
       "      <td>M2</td>\n",
       "      <td>2015-03-15</td>\n",
       "      <td>3</td>\n",
       "      <td>15</td>\n",
       "      <td>Initial LevelTech</td>\n",
       "      <td>Operational Capabilities</td>\n",
       "    </tr>\n",
       "    <tr>\n",
       "      <th>2</th>\n",
       "      <td>M2</td>\n",
       "      <td>2015-03-25</td>\n",
       "      <td>3</td>\n",
       "      <td>25</td>\n",
       "      <td>Initial LevelTech</td>\n",
       "      <td>Operational Capabilities</td>\n",
       "    </tr>\n",
       "    <tr>\n",
       "      <th>3</th>\n",
       "      <td>M2</td>\n",
       "      <td>2015-03-28</td>\n",
       "      <td>3</td>\n",
       "      <td>28</td>\n",
       "      <td>Initial LevelPayment Settlement</td>\n",
       "      <td>Operational Capabilities</td>\n",
       "    </tr>\n",
       "    <tr>\n",
       "      <th>4</th>\n",
       "      <td>M2</td>\n",
       "      <td>2015-03-29</td>\n",
       "      <td>3</td>\n",
       "      <td>29</td>\n",
       "      <td>Initial LevelPayment Settlement</td>\n",
       "      <td>Account</td>\n",
       "    </tr>\n",
       "  </tbody>\n",
       "</table>\n",
       "</div>"
      ],
      "text/plain": [
       "  Account Number Query Date  Month  Day                           second  \\\n",
       "0             M2 2015-03-12      3   12  Initial LevelPayment Settlement   \n",
       "1             M2 2015-03-15      3   15                Initial LevelTech   \n",
       "2             M2 2015-03-25      3   25                Initial LevelTech   \n",
       "3             M2 2015-03-28      3   28  Initial LevelPayment Settlement   \n",
       "4             M2 2015-03-29      3   29  Initial LevelPayment Settlement   \n",
       "\n",
       "                      third  \n",
       "0                   Account  \n",
       "1  Operational Capabilities  \n",
       "2  Operational Capabilities  \n",
       "3  Operational Capabilities  \n",
       "4                   Account  "
      ]
     },
     "execution_count": 10,
     "metadata": {},
     "output_type": "execute_result"
    }
   ],
   "source": [
    "data.head()"
   ]
  },
  {
   "cell_type": "code",
   "execution_count": 11,
   "metadata": {
    "collapsed": true
   },
   "outputs": [],
   "source": [
    "#"
   ]
  },
  {
   "cell_type": "code",
   "execution_count": null,
   "metadata": {
    "collapsed": false
   },
   "outputs": [],
   "source": []
  },
  {
   "cell_type": "code",
   "execution_count": null,
   "metadata": {
    "collapsed": true
   },
   "outputs": [],
   "source": []
  },
  {
   "cell_type": "code",
   "execution_count": null,
   "metadata": {
    "collapsed": true
   },
   "outputs": [],
   "source": []
  },
  {
   "cell_type": "code",
   "execution_count": null,
   "metadata": {
    "collapsed": true
   },
   "outputs": [],
   "source": [
    "#"
   ]
  },
  {
   "cell_type": "code",
   "execution_count": null,
   "metadata": {
    "collapsed": true
   },
   "outputs": [],
   "source": []
  },
  {
   "cell_type": "code",
   "execution_count": 13,
   "metadata": {
    "collapsed": false
   },
   "outputs": [],
   "source": [
    "data[\"Initial_Level_Payment_Settlement\"]=data[\"second\"].apply(lambda x: int(x==\"Initial LevelPayment Settlement\"))\n",
    "data[\"Initial_Level_Tech\"]=data[\"second\"].apply(lambda x: int(x==\"Initial LevelTech\"))"
   ]
  },
  {
   "cell_type": "code",
   "execution_count": 14,
   "metadata": {
    "collapsed": true
   },
   "outputs": [],
   "source": [
    "data[\"Account\"]=data[\"third\"].apply(lambda x: int(x==\"Account\"))\n",
    "data[\"Operational_Capabilities\"]=data[\"third\"].apply(lambda x: int(x==\"Operational Capabilities\"))\n",
    "data[\"Payment_Settlement\"]=data[\"third\"].apply(lambda x: int(x==\"Payment Settlement\"))\n",
    "data[\"Utilities\"]=data[\"third\"].apply(lambda x: int(x==\"Utilities\"))"
   ]
  },
  {
   "cell_type": "code",
   "execution_count": 15,
   "metadata": {
    "collapsed": false
   },
   "outputs": [],
   "source": [
    "Month_3=data[(data[\"Month\"]==3) | (data[\"Month\"]==7)][[\"Account Number\",\"Initial_Level_Payment_Settlement\",\"Initial_Level_Tech\",\"Account\",\"Operational_Capabilities\",\"Payment_Settlement\",\"Utilities\"]]  \n",
    "Month_2=data[(data[\"Month\"]==2) | (data[\"Month\"]==6)][[\"Account Number\",\"Initial_Level_Payment_Settlement\",\"Initial_Level_Tech\",\"Account\",\"Operational_Capabilities\",\"Payment_Settlement\",\"Utilities\"]]\n",
    "Month_1=data[(data[\"Month\"]==1) | (data[\"Month\"]==5)][[\"Account Number\",\"Initial_Level_Payment_Settlement\",\"Initial_Level_Tech\",\"Account\",\"Operational_Capabilities\",\"Payment_Settlement\",\"Utilities\"]]"
   ]
  },
  {
   "cell_type": "code",
   "execution_count": 16,
   "metadata": {
    "collapsed": false
   },
   "outputs": [
    {
     "data": {
      "text/html": [
       "<div>\n",
       "<table border=\"1\" class=\"dataframe\">\n",
       "  <thead>\n",
       "    <tr style=\"text-align: right;\">\n",
       "      <th></th>\n",
       "      <th>Account Number</th>\n",
       "      <th>Initial_Level_Payment_Settlement</th>\n",
       "      <th>Initial_Level_Tech</th>\n",
       "      <th>Account</th>\n",
       "      <th>Operational_Capabilities</th>\n",
       "      <th>Payment_Settlement</th>\n",
       "      <th>Utilities</th>\n",
       "    </tr>\n",
       "  </thead>\n",
       "  <tbody>\n",
       "    <tr>\n",
       "      <th>0</th>\n",
       "      <td>M2</td>\n",
       "      <td>1</td>\n",
       "      <td>0</td>\n",
       "      <td>1</td>\n",
       "      <td>0</td>\n",
       "      <td>0</td>\n",
       "      <td>0</td>\n",
       "    </tr>\n",
       "    <tr>\n",
       "      <th>1</th>\n",
       "      <td>M2</td>\n",
       "      <td>0</td>\n",
       "      <td>1</td>\n",
       "      <td>0</td>\n",
       "      <td>1</td>\n",
       "      <td>0</td>\n",
       "      <td>0</td>\n",
       "    </tr>\n",
       "    <tr>\n",
       "      <th>2</th>\n",
       "      <td>M2</td>\n",
       "      <td>0</td>\n",
       "      <td>1</td>\n",
       "      <td>0</td>\n",
       "      <td>1</td>\n",
       "      <td>0</td>\n",
       "      <td>0</td>\n",
       "    </tr>\n",
       "    <tr>\n",
       "      <th>3</th>\n",
       "      <td>M2</td>\n",
       "      <td>1</td>\n",
       "      <td>0</td>\n",
       "      <td>0</td>\n",
       "      <td>1</td>\n",
       "      <td>0</td>\n",
       "      <td>0</td>\n",
       "    </tr>\n",
       "    <tr>\n",
       "      <th>4</th>\n",
       "      <td>M2</td>\n",
       "      <td>1</td>\n",
       "      <td>0</td>\n",
       "      <td>1</td>\n",
       "      <td>0</td>\n",
       "      <td>0</td>\n",
       "      <td>0</td>\n",
       "    </tr>\n",
       "  </tbody>\n",
       "</table>\n",
       "</div>"
      ],
      "text/plain": [
       "  Account Number  Initial_Level_Payment_Settlement  Initial_Level_Tech  \\\n",
       "0             M2                                 1                   0   \n",
       "1             M2                                 0                   1   \n",
       "2             M2                                 0                   1   \n",
       "3             M2                                 1                   0   \n",
       "4             M2                                 1                   0   \n",
       "\n",
       "   Account  Operational_Capabilities  Payment_Settlement  Utilities  \n",
       "0        1                         0                   0          0  \n",
       "1        0                         1                   0          0  \n",
       "2        0                         1                   0          0  \n",
       "3        0                         1                   0          0  \n",
       "4        1                         0                   0          0  "
      ]
     },
     "execution_count": 16,
     "metadata": {},
     "output_type": "execute_result"
    }
   ],
   "source": [
    "Month_3.head()"
   ]
  },
  {
   "cell_type": "code",
   "execution_count": 164,
   "metadata": {
    "collapsed": false
   },
   "outputs": [],
   "source": [
    "f = {'Initial_Level_Payment_Settlement':['sum'], 'Initial_Level_Tech':['sum'],'Account':['sum'], 'Operational_Capabilities':['sum'], 'Payment_Settlement':['sum'], 'Utilities':['sum'] }   \n",
    "Month_1=Month_1.groupby([\"Account Number\"],as_index=False).agg(f)\n",
    "Month_2=Month_2.groupby([\"Account Number\"],as_index=False).agg(f)\n",
    "Month_3=Month_3.groupby([\"Account Number\"],as_index=False).agg(f)"
   ]
  },
  {
   "cell_type": "code",
   "execution_count": 17,
   "metadata": {
    "collapsed": false
   },
   "outputs": [],
   "source": [
    "Month_1.columns=[\"Account Number\",\"Initial_Level_Tech_1\",\"Initial_Level_Payment_Settlement_1\",\"Account_1\",\"Payment_Settlement_1\",\"Operational_Capabilities_1\",\"Utilities_1\"]\n",
    "Month_2.columns=[\"Account Number\",\"Initial_Level_Tech_2\",\"Initial_Level_Payment_Settlement_2\",\"Account_2\",\"Payment_Settlement_2\",\"Operational_Capabilities_2\",\"Utilities_2\"]    \n",
    "Month_3.columns=[\"Account Number\",\"Initial_Level_Tech_3\",\"Initial_Level_Payment_Settlement_3\",\"Account_3\",\"Payment_Settlement_3\",\"Operational_Capabilities_3\",\"Utilities_3\"]              "
   ]
  },
  {
   "cell_type": "code",
   "execution_count": 18,
   "metadata": {
    "collapsed": false
   },
   "outputs": [
    {
     "data": {
      "text/plain": [
       "((4444, 7), (4153, 7), (4077, 7))"
      ]
     },
     "execution_count": 18,
     "metadata": {},
     "output_type": "execute_result"
    }
   ],
   "source": [
    "Month_3.shape, Month_2.shape, Month_1.shape"
   ]
  },
  {
   "cell_type": "code",
   "execution_count": 19,
   "metadata": {
    "collapsed": true
   },
   "outputs": [],
   "source": [
    "main1= pd.merge(Month_1, Month_2, on=\"Account Number\",how=\"outer\")\n",
    "main=pd.merge(Month_3, main1, on=\"Account Number\", how=\"outer\" )"
   ]
  },
  {
   "cell_type": "code",
   "execution_count": 20,
   "metadata": {
    "collapsed": false
   },
   "outputs": [
    {
     "data": {
      "text/html": [
       "<div>\n",
       "<table border=\"1\" class=\"dataframe\">\n",
       "  <thead>\n",
       "    <tr style=\"text-align: right;\">\n",
       "      <th></th>\n",
       "      <th>Account Number</th>\n",
       "      <th>Initial_Level_Tech_3</th>\n",
       "      <th>Initial_Level_Payment_Settlement_3</th>\n",
       "      <th>Account_3</th>\n",
       "      <th>Payment_Settlement_3</th>\n",
       "      <th>Operational_Capabilities_3</th>\n",
       "      <th>Utilities_3</th>\n",
       "      <th>Initial_Level_Tech_1</th>\n",
       "      <th>Initial_Level_Payment_Settlement_1</th>\n",
       "      <th>Account_1</th>\n",
       "      <th>Payment_Settlement_1</th>\n",
       "      <th>Operational_Capabilities_1</th>\n",
       "      <th>Utilities_1</th>\n",
       "      <th>Initial_Level_Tech_2</th>\n",
       "      <th>Initial_Level_Payment_Settlement_2</th>\n",
       "      <th>Account_2</th>\n",
       "      <th>Payment_Settlement_2</th>\n",
       "      <th>Operational_Capabilities_2</th>\n",
       "      <th>Utilities_2</th>\n",
       "    </tr>\n",
       "  </thead>\n",
       "  <tbody>\n",
       "    <tr>\n",
       "      <th>0</th>\n",
       "      <td>M2</td>\n",
       "      <td>1.0</td>\n",
       "      <td>0.0</td>\n",
       "      <td>1.0</td>\n",
       "      <td>0.0</td>\n",
       "      <td>0.0</td>\n",
       "      <td>0.0</td>\n",
       "      <td>NaN</td>\n",
       "      <td>NaN</td>\n",
       "      <td>NaN</td>\n",
       "      <td>NaN</td>\n",
       "      <td>NaN</td>\n",
       "      <td>NaN</td>\n",
       "      <td>NaN</td>\n",
       "      <td>NaN</td>\n",
       "      <td>NaN</td>\n",
       "      <td>NaN</td>\n",
       "      <td>NaN</td>\n",
       "      <td>NaN</td>\n",
       "    </tr>\n",
       "    <tr>\n",
       "      <th>1</th>\n",
       "      <td>M2</td>\n",
       "      <td>0.0</td>\n",
       "      <td>1.0</td>\n",
       "      <td>0.0</td>\n",
       "      <td>1.0</td>\n",
       "      <td>0.0</td>\n",
       "      <td>0.0</td>\n",
       "      <td>NaN</td>\n",
       "      <td>NaN</td>\n",
       "      <td>NaN</td>\n",
       "      <td>NaN</td>\n",
       "      <td>NaN</td>\n",
       "      <td>NaN</td>\n",
       "      <td>NaN</td>\n",
       "      <td>NaN</td>\n",
       "      <td>NaN</td>\n",
       "      <td>NaN</td>\n",
       "      <td>NaN</td>\n",
       "      <td>NaN</td>\n",
       "    </tr>\n",
       "    <tr>\n",
       "      <th>2</th>\n",
       "      <td>M2</td>\n",
       "      <td>0.0</td>\n",
       "      <td>1.0</td>\n",
       "      <td>0.0</td>\n",
       "      <td>1.0</td>\n",
       "      <td>0.0</td>\n",
       "      <td>0.0</td>\n",
       "      <td>NaN</td>\n",
       "      <td>NaN</td>\n",
       "      <td>NaN</td>\n",
       "      <td>NaN</td>\n",
       "      <td>NaN</td>\n",
       "      <td>NaN</td>\n",
       "      <td>NaN</td>\n",
       "      <td>NaN</td>\n",
       "      <td>NaN</td>\n",
       "      <td>NaN</td>\n",
       "      <td>NaN</td>\n",
       "      <td>NaN</td>\n",
       "    </tr>\n",
       "    <tr>\n",
       "      <th>3</th>\n",
       "      <td>M2</td>\n",
       "      <td>1.0</td>\n",
       "      <td>0.0</td>\n",
       "      <td>0.0</td>\n",
       "      <td>1.0</td>\n",
       "      <td>0.0</td>\n",
       "      <td>0.0</td>\n",
       "      <td>NaN</td>\n",
       "      <td>NaN</td>\n",
       "      <td>NaN</td>\n",
       "      <td>NaN</td>\n",
       "      <td>NaN</td>\n",
       "      <td>NaN</td>\n",
       "      <td>NaN</td>\n",
       "      <td>NaN</td>\n",
       "      <td>NaN</td>\n",
       "      <td>NaN</td>\n",
       "      <td>NaN</td>\n",
       "      <td>NaN</td>\n",
       "    </tr>\n",
       "    <tr>\n",
       "      <th>4</th>\n",
       "      <td>M2</td>\n",
       "      <td>1.0</td>\n",
       "      <td>0.0</td>\n",
       "      <td>1.0</td>\n",
       "      <td>0.0</td>\n",
       "      <td>0.0</td>\n",
       "      <td>0.0</td>\n",
       "      <td>NaN</td>\n",
       "      <td>NaN</td>\n",
       "      <td>NaN</td>\n",
       "      <td>NaN</td>\n",
       "      <td>NaN</td>\n",
       "      <td>NaN</td>\n",
       "      <td>NaN</td>\n",
       "      <td>NaN</td>\n",
       "      <td>NaN</td>\n",
       "      <td>NaN</td>\n",
       "      <td>NaN</td>\n",
       "      <td>NaN</td>\n",
       "    </tr>\n",
       "  </tbody>\n",
       "</table>\n",
       "</div>"
      ],
      "text/plain": [
       "  Account Number  Initial_Level_Tech_3  Initial_Level_Payment_Settlement_3  \\\n",
       "0             M2                   1.0                                 0.0   \n",
       "1             M2                   0.0                                 1.0   \n",
       "2             M2                   0.0                                 1.0   \n",
       "3             M2                   1.0                                 0.0   \n",
       "4             M2                   1.0                                 0.0   \n",
       "\n",
       "   Account_3  Payment_Settlement_3  Operational_Capabilities_3  Utilities_3  \\\n",
       "0        1.0                   0.0                         0.0          0.0   \n",
       "1        0.0                   1.0                         0.0          0.0   \n",
       "2        0.0                   1.0                         0.0          0.0   \n",
       "3        0.0                   1.0                         0.0          0.0   \n",
       "4        1.0                   0.0                         0.0          0.0   \n",
       "\n",
       "   Initial_Level_Tech_1  Initial_Level_Payment_Settlement_1  Account_1  \\\n",
       "0                   NaN                                 NaN        NaN   \n",
       "1                   NaN                                 NaN        NaN   \n",
       "2                   NaN                                 NaN        NaN   \n",
       "3                   NaN                                 NaN        NaN   \n",
       "4                   NaN                                 NaN        NaN   \n",
       "\n",
       "   Payment_Settlement_1  Operational_Capabilities_1  Utilities_1  \\\n",
       "0                   NaN                         NaN          NaN   \n",
       "1                   NaN                         NaN          NaN   \n",
       "2                   NaN                         NaN          NaN   \n",
       "3                   NaN                         NaN          NaN   \n",
       "4                   NaN                         NaN          NaN   \n",
       "\n",
       "   Initial_Level_Tech_2  Initial_Level_Payment_Settlement_2  Account_2  \\\n",
       "0                   NaN                                 NaN        NaN   \n",
       "1                   NaN                                 NaN        NaN   \n",
       "2                   NaN                                 NaN        NaN   \n",
       "3                   NaN                                 NaN        NaN   \n",
       "4                   NaN                                 NaN        NaN   \n",
       "\n",
       "   Payment_Settlement_2  Operational_Capabilities_2  Utilities_2  \n",
       "0                   NaN                         NaN          NaN  \n",
       "1                   NaN                         NaN          NaN  \n",
       "2                   NaN                         NaN          NaN  \n",
       "3                   NaN                         NaN          NaN  \n",
       "4                   NaN                         NaN          NaN  "
      ]
     },
     "execution_count": 20,
     "metadata": {},
     "output_type": "execute_result"
    }
   ],
   "source": [
    "main.head()"
   ]
  },
  {
   "cell_type": "markdown",
   "metadata": {},
   "source": [
    "> Filling Null with Zeroes"
   ]
  },
  {
   "cell_type": "code",
   "execution_count": 21,
   "metadata": {
    "collapsed": false
   },
   "outputs": [],
   "source": [
    "main=main.fillna(0)"
   ]
  },
  {
   "cell_type": "markdown",
   "metadata": {},
   "source": [
    ">"
   ]
  },
  {
   "cell_type": "markdown",
   "metadata": {},
   "source": [
    "> Feature Engineering"
   ]
  },
  {
   "cell_type": "code",
   "execution_count": 22,
   "metadata": {
    "collapsed": true
   },
   "outputs": [],
   "source": [
    "main[\"Initial_Level_Tech\"] = (6*main[\"Initial_Level_Tech_3\"] + 3*main[\"Initial_Level_Tech_2\"] + 2*main[\"Initial_Level_Tech_1\"])/6\n",
    "main[\"Account\"]            = (6*main[\"Account_3\"] + 3*main[\"Account_2\"] + 2*main[\"Account_1\"])/6\n",
    "main[\"Payment_Settlement\"] = (6*main[\"Payment_Settlement_3\"] + 3*main[\"Payment_Settlement_2\"] + 2*main[\"Payment_Settlement_1\"])/6\n",
    "main[\"Utilities\"] = (6*main[\"Utilities_3\"] + 3*main[\"Utilities_2\"] + 2*main[\"Utilities_1\"])/6\n",
    "main[\"Operational_Capabilities\"] = (6*main[\"Operational_Capabilities_3\"] + 3*main[\"Operational_Capabilities_2\"] + 2*main[\"Operational_Capabilities_1\"])/6\n",
    "main[\"Initial_Level_Payment_Settlement\"] = (6*main[\"Initial_Level_Payment_Settlement_3\"] + 3*main[\"Initial_Level_Payment_Settlement_2\"] + 2*main[\"Initial_Level_Payment_Settlement_1\"])/6"
   ]
  },
  {
   "cell_type": "code",
   "execution_count": 23,
   "metadata": {
    "collapsed": true
   },
   "outputs": [],
   "source": [
    "del main[\"Initial_Level_Tech_1\"], main[\"Account_1\"], main[\"Payment_Settlement_1\"], main[\"Utilities_1\"], main[\"Operational_Capabilities_1\"],main[\"Initial_Level_Payment_Settlement_1\"]      \n",
    "del main[\"Initial_Level_Tech_2\"], main[\"Account_2\"], main[\"Payment_Settlement_2\"], main[\"Utilities_2\"], main[\"Operational_Capabilities_2\"],main[\"Initial_Level_Payment_Settlement_2\"]               \n",
    "del main[\"Initial_Level_Tech_3\"], main[\"Account_3\"], main[\"Payment_Settlement_3\"], main[\"Utilities_3\"], main[\"Operational_Capabilities_3\"],main[\"Initial_Level_Payment_Settlement_3\"]               "
   ]
  },
  {
   "cell_type": "code",
   "execution_count": 24,
   "metadata": {
    "collapsed": false
   },
   "outputs": [
    {
     "data": {
      "text/plain": [
       "Index(['Account Number', 'Initial_Level_Tech', 'Account', 'Payment_Settlement',\n",
       "       'Utilities', 'Operational_Capabilities',\n",
       "       'Initial_Level_Payment_Settlement'],\n",
       "      dtype='object')"
      ]
     },
     "execution_count": 24,
     "metadata": {},
     "output_type": "execute_result"
    }
   ],
   "source": [
    "main.columns"
   ]
  },
  {
   "cell_type": "code",
   "execution_count": 27,
   "metadata": {
    "collapsed": false
   },
   "outputs": [
    {
     "data": {
      "text/plain": [
       "(15489, 7)"
      ]
     },
     "execution_count": 27,
     "metadata": {},
     "output_type": "execute_result"
    }
   ],
   "source": [
    "main.shape"
   ]
  },
  {
   "cell_type": "code",
   "execution_count": 34,
   "metadata": {
    "collapsed": false
   },
   "outputs": [
    {
     "data": {
      "text/plain": [
       "1        1.000000\n",
       "2        1.000000\n",
       "3        1.000000\n",
       "8        1.000000\n",
       "9        1.000000\n",
       "16       0.333333\n",
       "17       0.333333\n",
       "18       0.333333\n",
       "19       0.333333\n",
       "20       0.333333\n",
       "21       0.333333\n",
       "22       0.333333\n",
       "23       0.333333\n",
       "24       0.333333\n",
       "25       0.333333\n",
       "26       0.333333\n",
       "27       0.333333\n",
       "28       0.333333\n",
       "29       0.333333\n",
       "30       0.333333\n",
       "31       0.333333\n",
       "48       0.333333\n",
       "49       0.333333\n",
       "50       0.333333\n",
       "51       0.333333\n",
       "52       0.333333\n",
       "53       0.333333\n",
       "54       0.333333\n",
       "55       0.333333\n",
       "56       0.333333\n",
       "           ...   \n",
       "15416    0.500000\n",
       "15427    0.500000\n",
       "15430    0.500000\n",
       "15431    0.500000\n",
       "15432    0.500000\n",
       "15439    0.500000\n",
       "15441    0.500000\n",
       "15443    0.500000\n",
       "15445    0.500000\n",
       "15447    0.500000\n",
       "15448    0.500000\n",
       "15452    0.500000\n",
       "15453    0.500000\n",
       "15455    0.500000\n",
       "15461    0.500000\n",
       "15462    0.500000\n",
       "15463    0.500000\n",
       "15465    0.500000\n",
       "15466    0.500000\n",
       "15468    0.500000\n",
       "15469    0.500000\n",
       "15470    0.500000\n",
       "15471    0.500000\n",
       "15473    0.500000\n",
       "15474    0.500000\n",
       "15477    0.500000\n",
       "15478    0.500000\n",
       "15481    0.500000\n",
       "15483    0.500000\n",
       "15486    0.500000\n",
       "Name: Payment_Settlement, dtype: float64"
      ]
     },
     "execution_count": 34,
     "metadata": {},
     "output_type": "execute_result"
    }
   ],
   "source": [
    "main[\"Payment_Settlement\"][main[\"Payment_Settlement\"]>0]"
   ]
  },
  {
   "cell_type": "code",
   "execution_count": null,
   "metadata": {
    "collapsed": true
   },
   "outputs": [],
   "source": []
  },
  {
   "cell_type": "code",
   "execution_count": 174,
   "metadata": {
    "collapsed": false
   },
   "outputs": [
    {
     "data": {
      "text/plain": [
       "Account Number                        0\n",
       "Initial_Level_Tech_3                  0\n",
       "Initial_Level_Payment_Settlement_3    0\n",
       "Account_3                             0\n",
       "Payment_Settlement_3                  0\n",
       "Operational_Capabilities_3            0\n",
       "Utilities_3                           0\n",
       "Initial_Level_Tech_1                  0\n",
       "Initial_Level_Payment_Settlement_1    0\n",
       "Account_1                             0\n",
       "Payment_Settlement_1                  0\n",
       "Operational_Capabilities_1            0\n",
       "Utilities_1                           0\n",
       "Initial_Level_Tech_2                  0\n",
       "Initial_Level_Payment_Settlement_2    0\n",
       "Account_2                             0\n",
       "Payment_Settlement_2                  0\n",
       "Operational_Capabilities_2            0\n",
       "Utilities_2                           0\n",
       "dtype: int64"
      ]
     },
     "execution_count": 174,
     "metadata": {},
     "output_type": "execute_result"
    }
   ],
   "source": [
    "main.isnull().sum()"
   ]
  },
  {
   "cell_type": "code",
   "execution_count": 153,
   "metadata": {
    "collapsed": true
   },
   "outputs": [],
   "source": [
    "main.to_csv(\"Call_Center.csv\",index=False)"
   ]
  },
  {
   "cell_type": "code",
   "execution_count": 154,
   "metadata": {
    "collapsed": false
   },
   "outputs": [
    {
     "data": {
      "text/plain": [
       "M6999    1\n",
       "M7237    1\n",
       "M6829    1\n",
       "M6244    1\n",
       "V3065    1\n",
       "M8334    1\n",
       "M3948    1\n",
       "M3038    1\n",
       "M4047    1\n",
       "M7210    1\n",
       "V1662    1\n",
       "M3014    1\n",
       "M6174    1\n",
       "M9753    1\n",
       "M3362    1\n",
       "M1977    1\n",
       "V2283    1\n",
       "M6402    1\n",
       "M5996    1\n",
       "V3516    1\n",
       "M4894    1\n",
       "V3147    1\n",
       "M4698    1\n",
       "M7944    1\n",
       "V4961    1\n",
       "M9811    1\n",
       "V3658    1\n",
       "M7231    1\n",
       "M5822    1\n",
       "M8436    1\n",
       "        ..\n",
       "M7878    1\n",
       "M7991    1\n",
       "M4247    1\n",
       "M976     1\n",
       "M8919    1\n",
       "M7384    1\n",
       "M8441    1\n",
       "V3657    1\n",
       "M6969    1\n",
       "V4308    1\n",
       "V987     1\n",
       "M9976    1\n",
       "M9707    1\n",
       "M3452    1\n",
       "M5835    1\n",
       "M2826    1\n",
       "M5564    1\n",
       "V181     1\n",
       "M8264    1\n",
       "M5989    1\n",
       "M7444    1\n",
       "M4949    1\n",
       "M9232    1\n",
       "M3358    1\n",
       "M6358    1\n",
       "V4725    1\n",
       "M6408    1\n",
       "M5575    1\n",
       "V4811    1\n",
       "M771     1\n",
       "Name: Account Number, dtype: int64"
      ]
     },
     "execution_count": 154,
     "metadata": {},
     "output_type": "execute_result"
    }
   ],
   "source": [
    "main[\"Account Number\"].value_counts()"
   ]
  },
  {
   "cell_type": "code",
   "execution_count": null,
   "metadata": {
    "collapsed": true
   },
   "outputs": [],
   "source": []
  },
  {
   "cell_type": "code",
   "execution_count": null,
   "metadata": {
    "collapsed": true
   },
   "outputs": [],
   "source": []
  },
  {
   "cell_type": "code",
   "execution_count": 155,
   "metadata": {
    "collapsed": true
   },
   "outputs": [],
   "source": [
    "#no"
   ]
  }
 ],
 "metadata": {
  "anaconda-cloud": {},
  "kernelspec": {
   "display_name": "Python [conda root]",
   "language": "python",
   "name": "conda-root-py"
  },
  "language_info": {
   "codemirror_mode": {
    "name": "ipython",
    "version": 3
   },
   "file_extension": ".py",
   "mimetype": "text/x-python",
   "name": "python",
   "nbconvert_exporter": "python",
   "pygments_lexer": "ipython3",
   "version": "3.5.2"
  }
 },
 "nbformat": 4,
 "nbformat_minor": 1
}
