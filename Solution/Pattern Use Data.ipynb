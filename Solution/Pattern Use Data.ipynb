{
 "cells": [
  {
   "cell_type": "code",
   "execution_count": 1,
   "metadata": {
    "collapsed": true
   },
   "outputs": [],
   "source": [
    "import pandas as pd\n",
    "import matplotlib.pyplot as plt\n",
    "%matplotlib inline\n",
    "import seaborn as sns\n",
    "import numpy as np"
   ]
  },
  {
   "cell_type": "code",
   "execution_count": 2,
   "metadata": {
    "collapsed": true
   },
   "outputs": [],
   "source": [
    "data = pd.read_excel('Pattern Use.xlsx')"
   ]
  },
  {
   "cell_type": "code",
   "execution_count": 3,
   "metadata": {
    "collapsed": true
   },
   "outputs": [],
   "source": [
    "data[\"YYYYMM\"]=data[\"YYYYMM\"].astype(str)"
   ]
  },
  {
   "cell_type": "code",
   "execution_count": 4,
   "metadata": {
    "collapsed": false
   },
   "outputs": [],
   "source": [
    "data['Year'] = data['YYYYMM'].str[0:4]\n",
    "data['Month'] = data['YYYYMM'].str[4:]"
   ]
  },
  {
   "cell_type": "code",
   "execution_count": 5,
   "metadata": {
    "collapsed": false
   },
   "outputs": [
    {
     "data": {
      "text/html": [
       "<div>\n",
       "<table border=\"1\" class=\"dataframe\">\n",
       "  <thead>\n",
       "    <tr style=\"text-align: right;\">\n",
       "      <th></th>\n",
       "      <th>Account Number</th>\n",
       "      <th>Used pattern in hours</th>\n",
       "      <th>Usage Post Limit Utilization in hrs</th>\n",
       "      <th>data used Gb</th>\n",
       "      <th>YYYYMM</th>\n",
       "      <th>Year</th>\n",
       "      <th>Month</th>\n",
       "    </tr>\n",
       "  </thead>\n",
       "  <tbody>\n",
       "    <tr>\n",
       "      <th>0</th>\n",
       "      <td>M1</td>\n",
       "      <td>717.90</td>\n",
       "      <td>0</td>\n",
       "      <td>43.80</td>\n",
       "      <td>201501</td>\n",
       "      <td>2015</td>\n",
       "      <td>01</td>\n",
       "    </tr>\n",
       "    <tr>\n",
       "      <th>1</th>\n",
       "      <td>M1</td>\n",
       "      <td>662.42</td>\n",
       "      <td>0</td>\n",
       "      <td>110.35</td>\n",
       "      <td>201502</td>\n",
       "      <td>2015</td>\n",
       "      <td>02</td>\n",
       "    </tr>\n",
       "    <tr>\n",
       "      <th>2</th>\n",
       "      <td>M1</td>\n",
       "      <td>634.68</td>\n",
       "      <td>0</td>\n",
       "      <td>109.10</td>\n",
       "      <td>201503</td>\n",
       "      <td>2015</td>\n",
       "      <td>03</td>\n",
       "    </tr>\n",
       "    <tr>\n",
       "      <th>3</th>\n",
       "      <td>M2</td>\n",
       "      <td>696.12</td>\n",
       "      <td>5</td>\n",
       "      <td>98.40</td>\n",
       "      <td>201501</td>\n",
       "      <td>2015</td>\n",
       "      <td>01</td>\n",
       "    </tr>\n",
       "    <tr>\n",
       "      <th>4</th>\n",
       "      <td>M2</td>\n",
       "      <td>652.40</td>\n",
       "      <td>0</td>\n",
       "      <td>70.90</td>\n",
       "      <td>201502</td>\n",
       "      <td>2015</td>\n",
       "      <td>02</td>\n",
       "    </tr>\n",
       "  </tbody>\n",
       "</table>\n",
       "</div>"
      ],
      "text/plain": [
       "  Account Number   Used pattern in hours  Usage Post Limit Utilization in hrs  \\\n",
       "0              M1                 717.90                                    0   \n",
       "1              M1                 662.42                                    0   \n",
       "2              M1                 634.68                                    0   \n",
       "3              M2                 696.12                                    5   \n",
       "4              M2                 652.40                                    0   \n",
       "\n",
       "   data used Gb  YYYYMM  Year Month  \n",
       "0         43.80  201501  2015    01  \n",
       "1        110.35  201502  2015    02  \n",
       "2        109.10  201503  2015    03  \n",
       "3         98.40  201501  2015    01  \n",
       "4         70.90  201502  2015    02  "
      ]
     },
     "execution_count": 5,
     "metadata": {},
     "output_type": "execute_result"
    }
   ],
   "source": [
    "data.head()"
   ]
  },
  {
   "cell_type": "code",
   "execution_count": 6,
   "metadata": {
    "collapsed": false
   },
   "outputs": [],
   "source": [
    "data[\"Month\"]=data[\"Month\"].astype(int)"
   ]
  },
  {
   "cell_type": "code",
   "execution_count": 7,
   "metadata": {
    "collapsed": false
   },
   "outputs": [
    {
     "data": {
      "text/plain": [
       "0           M1\n",
       "1           M1\n",
       "2           M1\n",
       "3           M2\n",
       "4           M2\n",
       "5           M2\n",
       "6           M3\n",
       "7           M3\n",
       "8           M3\n",
       "9           M4\n",
       "10          M4\n",
       "11          M4\n",
       "12          M5\n",
       "13          M5\n",
       "14          M5\n",
       "15          M6\n",
       "16          M6\n",
       "17          M6\n",
       "18          M7\n",
       "19          M7\n",
       "20          M7\n",
       "21          M8\n",
       "22          M8\n",
       "23          M8\n",
       "24          M9\n",
       "25          M9\n",
       "26          M9\n",
       "27         M10\n",
       "28         M10\n",
       "29         M10\n",
       "         ...  \n",
       "41700    V4991\n",
       "41701    V4991\n",
       "41702    V4991\n",
       "41703    V4992\n",
       "41704    V4992\n",
       "41705    V4992\n",
       "41706    V4993\n",
       "41707    V4993\n",
       "41708    V4993\n",
       "41709    V4994\n",
       "41710    V4994\n",
       "41711    V4994\n",
       "41712    V4995\n",
       "41713    V4995\n",
       "41714    V4995\n",
       "41715    V4996\n",
       "41716    V4996\n",
       "41717    V4996\n",
       "41718    V4997\n",
       "41719    V4997\n",
       "41720    V4997\n",
       "41721    V4998\n",
       "41722    V4998\n",
       "41723    V4998\n",
       "41724    V4999\n",
       "41725    V4999\n",
       "41726    V4999\n",
       "41727    V5000\n",
       "41728    V5000\n",
       "41729    V5000\n",
       "Name: Account Number , dtype: object"
      ]
     },
     "execution_count": 7,
     "metadata": {},
     "output_type": "execute_result"
    }
   ],
   "source": [
    "data[\"Account Number \"]"
   ]
  },
  {
   "cell_type": "code",
   "execution_count": 8,
   "metadata": {
    "collapsed": false
   },
   "outputs": [],
   "source": [
    "Month_3=data[(data[\"Month\"]==3) | (data[\"Month\"]==7)][[\"Account Number \",\"Used pattern in hours\",\"Usage Post Limit Utilization in hrs\",\"data used Gb\"]]\n",
    "Month_2=data[(data[\"Month\"]==2) | (data[\"Month\"]==6)][[\"Account Number \",\"Used pattern in hours\",\"Usage Post Limit Utilization in hrs\",\"data used Gb\"]]\n",
    "Month_1=data[(data[\"Month\"]==1) | (data[\"Month\"]==5)][[\"Account Number \",\"Used pattern in hours\",\"Usage Post Limit Utilization in hrs\",\"data used Gb\"]]"
   ]
  },
  {
   "cell_type": "code",
   "execution_count": 9,
   "metadata": {
    "collapsed": true
   },
   "outputs": [],
   "source": [
    "Month_1.columns=[\"Account Number\",\"Used pattern_Month_1\",\"Usage Post Limit_Month_1\",\"data used_Month_1\"]\n",
    "Month_2.columns=[\"Account Number\",\"Used pattern_Month_2\",\"Usage Post Limit_Month_2\",\"data used_Month_2\"]\n",
    "Month_3.columns=[\"Account Number\",\"Used pattern_Month_3\",\"Usage Post Limit_Month_3\",\"data used_Month_3\"]"
   ]
  },
  {
   "cell_type": "code",
   "execution_count": 10,
   "metadata": {
    "collapsed": false
   },
   "outputs": [
    {
     "data": {
      "text/plain": [
       "((14327, 4), (13898, 4), (13505, 4))"
      ]
     },
     "execution_count": 10,
     "metadata": {},
     "output_type": "execute_result"
    }
   ],
   "source": [
    "Month_3.shape, Month_2.shape, Month_1.shape"
   ]
  },
  {
   "cell_type": "code",
   "execution_count": 11,
   "metadata": {
    "collapsed": true
   },
   "outputs": [],
   "source": [
    "main1= pd.merge(Month_1, Month_2, on=\"Account Number\",how=\"outer\")\n",
    "data=pd.merge(Month_3, main1, on=\"Account Number\", how=\"outer\" )"
   ]
  },
  {
   "cell_type": "code",
   "execution_count": 12,
   "metadata": {
    "collapsed": false
   },
   "outputs": [
    {
     "data": {
      "text/plain": [
       "(14539, 10)"
      ]
     },
     "execution_count": 12,
     "metadata": {},
     "output_type": "execute_result"
    }
   ],
   "source": [
    "data.shape"
   ]
  },
  {
   "cell_type": "markdown",
   "metadata": {},
   "source": [
    "> Filling Nan of Pattern Use with the mean of other month Pattern use."
   ]
  },
  {
   "cell_type": "code",
   "execution_count": 13,
   "metadata": {
    "collapsed": true
   },
   "outputs": [],
   "source": [
    "data[\"X\"]=data[[\"Used pattern_Month_3\",\"Used pattern_Month_2\",\"Used pattern_Month_1\"]].sum(axis=1)\n",
    "data[\"Y\"]=data[[\"Used pattern_Month_3\",\"Used pattern_Month_2\",\"Used pattern_Month_1\"]].count(axis=1)\n",
    "data[\"Z\"]=data[\"X\"]/data[\"Y\"]\n",
    "\n",
    "data[\"Used pattern_Month_1\"]=data[\"Used pattern_Month_1\"].fillna(data[\"Z\"])\n",
    "data[\"Used pattern_Month_2\"]=data[\"Used pattern_Month_2\"].fillna(data[\"Z\"])\n",
    "data[\"Used pattern_Month_3\"]=data[\"Used pattern_Month_3\"].fillna(data[\"Z\"])\n",
    "\n",
    "data[\"X\"]=data[[\"Usage Post Limit_Month_3\",\"Usage Post Limit_Month_2\",\"Usage Post Limit_Month_1\"]].sum(axis=1)\n",
    "data[\"Y\"]=data[[\"Usage Post Limit_Month_3\",\"Usage Post Limit_Month_2\",\"Usage Post Limit_Month_1\"]].count(axis=1)\n",
    "data[\"Z\"]=data[\"X\"]/data[\"Y\"]\n",
    "\n",
    "data[\"Usage Post Limit_Month_1\"]=data[\"Usage Post Limit_Month_1\"].fillna(data[\"Z\"])\n",
    "data[\"Usage Post Limit_Month_2\"]=data[\"Usage Post Limit_Month_2\"].fillna(data[\"Z\"])\n",
    "data[\"Usage Post Limit_Month_3\"]=data[\"Usage Post Limit_Month_3\"].fillna(data[\"Z\"])\n",
    "\n",
    "data[\"X\"]=data[[\"data used_Month_3\",\"data used_Month_2\",\"data used_Month_1\"]].sum(axis=1)\n",
    "data[\"Y\"]=data[[\"data used_Month_3\",\"data used_Month_2\",\"data used_Month_1\"]].count(axis=1)\n",
    "data[\"Z\"]=data[\"X\"]/data[\"Y\"]\n",
    "\n",
    "data[\"data used_Month_1\"]=data[\"data used_Month_1\"].fillna(data[\"Z\"])\n",
    "data[\"data used_Month_2\"]=data[\"data used_Month_2\"].fillna(data[\"Z\"])\n",
    "data[\"data used_Month_3\"]=data[\"data used_Month_3\"].fillna(data[\"Z\"])\n",
    "\n",
    "del data[\"X\"], data[\"Y\"], data[\"Z\"]"
   ]
  },
  {
   "cell_type": "markdown",
   "metadata": {},
   "source": [
    "> "
   ]
  },
  {
   "cell_type": "markdown",
   "metadata": {},
   "source": [
    "> Feature Engineering"
   ]
  },
  {
   "cell_type": "code",
   "execution_count": 14,
   "metadata": {
    "collapsed": false
   },
   "outputs": [
    {
     "name": "stderr",
     "output_type": "stream",
     "text": [
      "C:\\Users\\HARSH\\Anaconda3\\lib\\site-packages\\ipykernel\\__main__.py:2: SettingWithCopyWarning: \n",
      "A value is trying to be set on a copy of a slice from a DataFrame\n",
      "\n",
      "See the caveats in the documentation: http://pandas.pydata.org/pandas-docs/stable/indexing.html#indexing-view-versus-copy\n",
      "  from ipykernel import kernelapp as app\n",
      "C:\\Users\\HARSH\\Anaconda3\\lib\\site-packages\\ipykernel\\__main__.py:3: SettingWithCopyWarning: \n",
      "A value is trying to be set on a copy of a slice from a DataFrame\n",
      "\n",
      "See the caveats in the documentation: http://pandas.pydata.org/pandas-docs/stable/indexing.html#indexing-view-versus-copy\n",
      "  app.launch_new_instance()\n",
      "C:\\Users\\HARSH\\Anaconda3\\lib\\site-packages\\ipykernel\\__main__.py:4: SettingWithCopyWarning: \n",
      "A value is trying to be set on a copy of a slice from a DataFrame\n",
      "\n",
      "See the caveats in the documentation: http://pandas.pydata.org/pandas-docs/stable/indexing.html#indexing-view-versus-copy\n"
     ]
    }
   ],
   "source": [
    "data[\"Limit_Defaults\"]=0\n",
    "data[\"Limit_Defaults\"][data[\"Usage Post Limit_Month_1\"]!=0]=data[\"Limit_Defaults\"].apply(lambda x: x+2)\n",
    "data[\"Limit_Defaults\"][data[\"Usage Post Limit_Month_2\"]!=0]=data[\"Limit_Defaults\"].apply(lambda x: x+3)\n",
    "data[\"Limit_Defaults\"][data[\"Usage Post Limit_Month_3\"]!=0]=data[\"Limit_Defaults\"].apply(lambda x: x+6)"
   ]
  },
  {
   "cell_type": "code",
   "execution_count": null,
   "metadata": {
    "collapsed": true
   },
   "outputs": [],
   "source": []
  },
  {
   "cell_type": "code",
   "execution_count": 15,
   "metadata": {
    "collapsed": false
   },
   "outputs": [],
   "source": [
    "data[\"Last_Month_used_pattern\"] = data[\"Used pattern_Month_3\"]\n",
    "data[\"Average_of_used_pattern_of_last_two_month\"] = (data[\"Used pattern_Month_2\"]+data[\"Used pattern_Month_3\"])/2\n",
    "data[\"Average_of_used_pattern_of_last_three_month\"] = (data[\"Used pattern_Month_2\"]+data[\"Used pattern_Month_3\"] + data[\"Used pattern_Month_1\"])/3\n",
    "del data[\"Used pattern_Month_1\"], data[\"Used pattern_Month_2\"], data[\"Used pattern_Month_3\"]"
   ]
  },
  {
   "cell_type": "code",
   "execution_count": 16,
   "metadata": {
    "collapsed": false
   },
   "outputs": [],
   "source": [
    "data[\"Last_Month_Post_Limit\"] = data[\"Usage Post Limit_Month_3\"]\n",
    "data[\"Average_of_Post_Limit_of_last_two_month\"] = (data[\"Usage Post Limit_Month_2\"]+data[\"Usage Post Limit_Month_3\"])/2\n",
    "data[\"Average_of_Post_Limit_of_last_three_month\"] = (data[\"Usage Post Limit_Month_2\"]+data[\"Usage Post Limit_Month_3\"] + data[\"Usage Post Limit_Month_1\"])/3\n",
    "del data[\"Usage Post Limit_Month_1\"], data[\"Usage Post Limit_Month_2\"], data[\"Usage Post Limit_Month_3\"]"
   ]
  },
  {
   "cell_type": "code",
   "execution_count": 17,
   "metadata": {
    "collapsed": false
   },
   "outputs": [
    {
     "data": {
      "text/html": [
       "<div>\n",
       "<table border=\"1\" class=\"dataframe\">\n",
       "  <thead>\n",
       "    <tr style=\"text-align: right;\">\n",
       "      <th></th>\n",
       "      <th>Account Number</th>\n",
       "      <th>data used_Month_3</th>\n",
       "      <th>data used_Month_1</th>\n",
       "      <th>data used_Month_2</th>\n",
       "      <th>Limit_Defaults</th>\n",
       "      <th>Last_Month_used_pattern</th>\n",
       "      <th>Average_of_used_pattern_of_last_two_month</th>\n",
       "      <th>Average_of_used_pattern_of_last_three_month</th>\n",
       "      <th>Last_Month_Post_Limit</th>\n",
       "      <th>Average_of_Post_Limit_of_last_two_month</th>\n",
       "      <th>Average_of_Post_Limit_of_last_three_month</th>\n",
       "    </tr>\n",
       "  </thead>\n",
       "  <tbody>\n",
       "    <tr>\n",
       "      <th>0</th>\n",
       "      <td>M1</td>\n",
       "      <td>109.1</td>\n",
       "      <td>43.80</td>\n",
       "      <td>110.35</td>\n",
       "      <td>0</td>\n",
       "      <td>634.68</td>\n",
       "      <td>648.550</td>\n",
       "      <td>671.666667</td>\n",
       "      <td>0.0</td>\n",
       "      <td>0.0</td>\n",
       "      <td>0.000000</td>\n",
       "    </tr>\n",
       "    <tr>\n",
       "      <th>1</th>\n",
       "      <td>M2</td>\n",
       "      <td>103.5</td>\n",
       "      <td>98.40</td>\n",
       "      <td>70.90</td>\n",
       "      <td>2</td>\n",
       "      <td>495.77</td>\n",
       "      <td>574.085</td>\n",
       "      <td>614.763333</td>\n",
       "      <td>0.0</td>\n",
       "      <td>0.0</td>\n",
       "      <td>1.666667</td>\n",
       "    </tr>\n",
       "    <tr>\n",
       "      <th>2</th>\n",
       "      <td>M3</td>\n",
       "      <td>75.1</td>\n",
       "      <td>69.85</td>\n",
       "      <td>49.90</td>\n",
       "      <td>0</td>\n",
       "      <td>743.73</td>\n",
       "      <td>637.600</td>\n",
       "      <td>670.940000</td>\n",
       "      <td>0.0</td>\n",
       "      <td>0.0</td>\n",
       "      <td>0.000000</td>\n",
       "    </tr>\n",
       "    <tr>\n",
       "      <th>3</th>\n",
       "      <td>M4</td>\n",
       "      <td>56.6</td>\n",
       "      <td>58.70</td>\n",
       "      <td>56.70</td>\n",
       "      <td>0</td>\n",
       "      <td>598.20</td>\n",
       "      <td>633.650</td>\n",
       "      <td>670.176667</td>\n",
       "      <td>0.0</td>\n",
       "      <td>0.0</td>\n",
       "      <td>0.000000</td>\n",
       "    </tr>\n",
       "    <tr>\n",
       "      <th>4</th>\n",
       "      <td>M5</td>\n",
       "      <td>1.4</td>\n",
       "      <td>12.50</td>\n",
       "      <td>3.70</td>\n",
       "      <td>0</td>\n",
       "      <td>598.23</td>\n",
       "      <td>503.830</td>\n",
       "      <td>431.060000</td>\n",
       "      <td>0.0</td>\n",
       "      <td>0.0</td>\n",
       "      <td>0.000000</td>\n",
       "    </tr>\n",
       "  </tbody>\n",
       "</table>\n",
       "</div>"
      ],
      "text/plain": [
       "  Account Number  data used_Month_3  data used_Month_1  data used_Month_2  \\\n",
       "0             M1              109.1              43.80             110.35   \n",
       "1             M2              103.5              98.40              70.90   \n",
       "2             M3               75.1              69.85              49.90   \n",
       "3             M4               56.6              58.70              56.70   \n",
       "4             M5                1.4              12.50               3.70   \n",
       "\n",
       "   Limit_Defaults  Last_Month_used_pattern  \\\n",
       "0               0                   634.68   \n",
       "1               2                   495.77   \n",
       "2               0                   743.73   \n",
       "3               0                   598.20   \n",
       "4               0                   598.23   \n",
       "\n",
       "   Average_of_used_pattern_of_last_two_month  \\\n",
       "0                                    648.550   \n",
       "1                                    574.085   \n",
       "2                                    637.600   \n",
       "3                                    633.650   \n",
       "4                                    503.830   \n",
       "\n",
       "   Average_of_used_pattern_of_last_three_month  Last_Month_Post_Limit  \\\n",
       "0                                   671.666667                    0.0   \n",
       "1                                   614.763333                    0.0   \n",
       "2                                   670.940000                    0.0   \n",
       "3                                   670.176667                    0.0   \n",
       "4                                   431.060000                    0.0   \n",
       "\n",
       "   Average_of_Post_Limit_of_last_two_month  \\\n",
       "0                                      0.0   \n",
       "1                                      0.0   \n",
       "2                                      0.0   \n",
       "3                                      0.0   \n",
       "4                                      0.0   \n",
       "\n",
       "   Average_of_Post_Limit_of_last_three_month  \n",
       "0                                   0.000000  \n",
       "1                                   1.666667  \n",
       "2                                   0.000000  \n",
       "3                                   0.000000  \n",
       "4                                   0.000000  "
      ]
     },
     "execution_count": 17,
     "metadata": {},
     "output_type": "execute_result"
    }
   ],
   "source": [
    "data.head()"
   ]
  },
  {
   "cell_type": "code",
   "execution_count": 18,
   "metadata": {
    "collapsed": false
   },
   "outputs": [],
   "source": [
    "data[\"Last_MOnth_data_used\"] = data[\"data used_Month_3\"]\n",
    "data[\"Average_of_data_used_of_last_two_month\"] = (data[\"data used_Month_2\"]+data[\"data used_Month_3\"])/2\n",
    "data[\"Average_of_data_used_of_last_three_month\"] = (data[\"data used_Month_2\"]+data[\"data used_Month_3\"] + data[\"data used_Month_1\"])/3\n",
    "del data[\"data used_Month_1\"], data[\"data used_Month_2\"], data[\"data used_Month_3\"]"
   ]
  },
  {
   "cell_type": "code",
   "execution_count": 19,
   "metadata": {
    "collapsed": false
   },
   "outputs": [
    {
     "data": {
      "text/html": [
       "<div>\n",
       "<table border=\"1\" class=\"dataframe\">\n",
       "  <thead>\n",
       "    <tr style=\"text-align: right;\">\n",
       "      <th></th>\n",
       "      <th>Account Number</th>\n",
       "      <th>Limit_Defaults</th>\n",
       "      <th>Last_Month_used_pattern</th>\n",
       "      <th>Average_of_used_pattern_of_last_two_month</th>\n",
       "      <th>Average_of_used_pattern_of_last_three_month</th>\n",
       "      <th>Last_Month_Post_Limit</th>\n",
       "      <th>Average_of_Post_Limit_of_last_two_month</th>\n",
       "      <th>Average_of_Post_Limit_of_last_three_month</th>\n",
       "      <th>Last_MOnth_data_used</th>\n",
       "      <th>Average_of_data_used_of_last_two_month</th>\n",
       "      <th>Average_of_data_used_of_last_three_month</th>\n",
       "    </tr>\n",
       "  </thead>\n",
       "  <tbody>\n",
       "    <tr>\n",
       "      <th>0</th>\n",
       "      <td>M1</td>\n",
       "      <td>0</td>\n",
       "      <td>634.68</td>\n",
       "      <td>648.550</td>\n",
       "      <td>671.666667</td>\n",
       "      <td>0.0</td>\n",
       "      <td>0.0</td>\n",
       "      <td>0.000000</td>\n",
       "      <td>109.1</td>\n",
       "      <td>109.725</td>\n",
       "      <td>87.750000</td>\n",
       "    </tr>\n",
       "    <tr>\n",
       "      <th>1</th>\n",
       "      <td>M2</td>\n",
       "      <td>2</td>\n",
       "      <td>495.77</td>\n",
       "      <td>574.085</td>\n",
       "      <td>614.763333</td>\n",
       "      <td>0.0</td>\n",
       "      <td>0.0</td>\n",
       "      <td>1.666667</td>\n",
       "      <td>103.5</td>\n",
       "      <td>87.200</td>\n",
       "      <td>90.933333</td>\n",
       "    </tr>\n",
       "    <tr>\n",
       "      <th>2</th>\n",
       "      <td>M3</td>\n",
       "      <td>0</td>\n",
       "      <td>743.73</td>\n",
       "      <td>637.600</td>\n",
       "      <td>670.940000</td>\n",
       "      <td>0.0</td>\n",
       "      <td>0.0</td>\n",
       "      <td>0.000000</td>\n",
       "      <td>75.1</td>\n",
       "      <td>62.500</td>\n",
       "      <td>64.950000</td>\n",
       "    </tr>\n",
       "    <tr>\n",
       "      <th>3</th>\n",
       "      <td>M4</td>\n",
       "      <td>0</td>\n",
       "      <td>598.20</td>\n",
       "      <td>633.650</td>\n",
       "      <td>670.176667</td>\n",
       "      <td>0.0</td>\n",
       "      <td>0.0</td>\n",
       "      <td>0.000000</td>\n",
       "      <td>56.6</td>\n",
       "      <td>56.650</td>\n",
       "      <td>57.333333</td>\n",
       "    </tr>\n",
       "    <tr>\n",
       "      <th>4</th>\n",
       "      <td>M5</td>\n",
       "      <td>0</td>\n",
       "      <td>598.23</td>\n",
       "      <td>503.830</td>\n",
       "      <td>431.060000</td>\n",
       "      <td>0.0</td>\n",
       "      <td>0.0</td>\n",
       "      <td>0.000000</td>\n",
       "      <td>1.4</td>\n",
       "      <td>2.550</td>\n",
       "      <td>5.866667</td>\n",
       "    </tr>\n",
       "  </tbody>\n",
       "</table>\n",
       "</div>"
      ],
      "text/plain": [
       "  Account Number  Limit_Defaults  Last_Month_used_pattern  \\\n",
       "0             M1               0                   634.68   \n",
       "1             M2               2                   495.77   \n",
       "2             M3               0                   743.73   \n",
       "3             M4               0                   598.20   \n",
       "4             M5               0                   598.23   \n",
       "\n",
       "   Average_of_used_pattern_of_last_two_month  \\\n",
       "0                                    648.550   \n",
       "1                                    574.085   \n",
       "2                                    637.600   \n",
       "3                                    633.650   \n",
       "4                                    503.830   \n",
       "\n",
       "   Average_of_used_pattern_of_last_three_month  Last_Month_Post_Limit  \\\n",
       "0                                   671.666667                    0.0   \n",
       "1                                   614.763333                    0.0   \n",
       "2                                   670.940000                    0.0   \n",
       "3                                   670.176667                    0.0   \n",
       "4                                   431.060000                    0.0   \n",
       "\n",
       "   Average_of_Post_Limit_of_last_two_month  \\\n",
       "0                                      0.0   \n",
       "1                                      0.0   \n",
       "2                                      0.0   \n",
       "3                                      0.0   \n",
       "4                                      0.0   \n",
       "\n",
       "   Average_of_Post_Limit_of_last_three_month  Last_MOnth_data_used  \\\n",
       "0                                   0.000000                 109.1   \n",
       "1                                   1.666667                 103.5   \n",
       "2                                   0.000000                  75.1   \n",
       "3                                   0.000000                  56.6   \n",
       "4                                   0.000000                   1.4   \n",
       "\n",
       "   Average_of_data_used_of_last_two_month  \\\n",
       "0                                 109.725   \n",
       "1                                  87.200   \n",
       "2                                  62.500   \n",
       "3                                  56.650   \n",
       "4                                   2.550   \n",
       "\n",
       "   Average_of_data_used_of_last_three_month  \n",
       "0                                 87.750000  \n",
       "1                                 90.933333  \n",
       "2                                 64.950000  \n",
       "3                                 57.333333  \n",
       "4                                  5.866667  "
      ]
     },
     "execution_count": 19,
     "metadata": {},
     "output_type": "execute_result"
    }
   ],
   "source": [
    "data.head()"
   ]
  },
  {
   "cell_type": "code",
   "execution_count": null,
   "metadata": {
    "collapsed": true
   },
   "outputs": [],
   "source": []
  },
  {
   "cell_type": "code",
   "execution_count": null,
   "metadata": {
    "collapsed": true
   },
   "outputs": [],
   "source": []
  },
  {
   "cell_type": "code",
   "execution_count": null,
   "metadata": {
    "collapsed": true
   },
   "outputs": [],
   "source": []
  },
  {
   "cell_type": "code",
   "execution_count": 20,
   "metadata": {
    "collapsed": true
   },
   "outputs": [],
   "source": [
    "data.to_csv('Pattern_Use.csv', index=False)"
   ]
  },
  {
   "cell_type": "code",
   "execution_count": null,
   "metadata": {
    "collapsed": true
   },
   "outputs": [],
   "source": []
  },
  {
   "cell_type": "code",
   "execution_count": null,
   "metadata": {
    "collapsed": true
   },
   "outputs": [],
   "source": []
  },
  {
   "cell_type": "code",
   "execution_count": null,
   "metadata": {
    "collapsed": true
   },
   "outputs": [],
   "source": []
  },
  {
   "cell_type": "code",
   "execution_count": 21,
   "metadata": {
    "collapsed": true
   },
   "outputs": [],
   "source": [
    "#no"
   ]
  }
 ],
 "metadata": {
  "anaconda-cloud": {},
  "kernelspec": {
   "display_name": "Python [conda root]",
   "language": "python",
   "name": "conda-root-py"
  },
  "language_info": {
   "codemirror_mode": {
    "name": "ipython",
    "version": 3
   },
   "file_extension": ".py",
   "mimetype": "text/x-python",
   "name": "python",
   "nbconvert_exporter": "python",
   "pygments_lexer": "ipython3",
   "version": "3.5.2"
  }
 },
 "nbformat": 4,
 "nbformat_minor": 1
}
