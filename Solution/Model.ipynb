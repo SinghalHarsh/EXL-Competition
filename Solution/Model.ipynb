{
 "cells": [
  {
   "cell_type": "code",
   "execution_count": 645,
   "metadata": {
    "collapsed": true
   },
   "outputs": [],
   "source": [
    "import pandas as pd\n",
    "import matplotlib.pyplot as plt\n",
    "%matplotlib inline\n",
    "import seaborn as sns\n",
    "import numpy as np"
   ]
  },
  {
   "cell_type": "code",
   "execution_count": 646,
   "metadata": {
    "collapsed": false
   },
   "outputs": [
    {
     "name": "stderr",
     "output_type": "stream",
     "text": [
      "C:\\Users\\HARSH\\Anaconda3\\lib\\site-packages\\matplotlib\\__init__.py:878: UserWarning: axes.color_cycle is deprecated and replaced with axes.prop_cycle; please use the latter.\n",
      "  warnings.warn(self.msg_depr % (key, alt_key))\n"
     ]
    }
   ],
   "source": [
    "from matplotlib import rcParams\n",
    "#colorbrewer2 Dark2 qualitative color table\n",
    "dark2_colors = [(0.10588235294117647, 0.6196078431372549, 0.4666666666666667),\n",
    "                (0.8509803921568627, 0.37254901960784315, 0.00784313725490196),\n",
    "                (0.4588235294117647, 0.4392156862745098, 0.7019607843137254),\n",
    "                (0.9058823529411765, 0.1607843137254902, 0.5411764705882353),\n",
    "                (0.4, 0.6509803921568628, 0.11764705882352941),\n",
    "                (0.9019607843137255, 0.6705882352941176, 0.00784313725490196),\n",
    "                (0.6509803921568628, 0.4627450980392157, 0.11372549019607843)]\n",
    "\n",
    "rcParams['figure.figsize'] = (8, 3)\n",
    "rcParams['figure.dpi'] = 150\n",
    "rcParams['axes.color_cycle'] = dark2_colors\n",
    "rcParams['lines.linewidth'] = 2\n",
    "rcParams['font.size'] = 14\n",
    "rcParams['patch.edgecolor'] = 'white'\n",
    "rcParams['patch.facecolor'] = dark2_colors[0]\n",
    "rcParams['font.family'] = 'StixGeneral'\n",
    "rcParams['axes.grid'] = True\n",
    "rcParams['axes.facecolor'] = '#eeeeee'"
   ]
  },
  {
   "cell_type": "code",
   "execution_count": 647,
   "metadata": {
    "collapsed": false
   },
   "outputs": [],
   "source": [
    "data=pd.read_csv(\"Modified_Data.csv\")"
   ]
  },
  {
   "cell_type": "code",
   "execution_count": 648,
   "metadata": {
    "collapsed": false
   },
   "outputs": [
    {
     "data": {
      "text/plain": [
       "Account Number                                        M2\n",
       "Age                                                   55\n",
       "Defaults                                               0\n",
       "Last_Month_Payment                               751.695\n",
       "Average_of_payment_of_last_two_month             751.695\n",
       "Average_of_payment_of_last_three_month           751.695\n",
       "Last_Month_Default                                     0\n",
       "Average_of_default_of_last_two_month                   0\n",
       "Average_of_default_of_last_three_month                 0\n",
       "Initial_Level_Tech                                     3\n",
       "Account                                                2\n",
       "Payment_Settlement                                     0\n",
       "Utilities                                              0\n",
       "Operational_Capabilities                               3\n",
       "Initial_Level_Payment_Settlement                       3\n",
       "Limit_Defaults                                         2\n",
       "Last_Month_used_pattern                           495.77\n",
       "Average_of_used_pattern_of_last_two_month        574.085\n",
       "Average_of_used_pattern_of_last_three_month      614.763\n",
       "Last_Month_Post_Limit                                  0\n",
       "Average_of_Post_Limit_of_last_two_month                0\n",
       "Average_of_Post_Limit_of_last_three_month        1.66667\n",
       "Last_MOnth_data_used                               103.5\n",
       "Average_of_data_used_of_last_two_month              87.2\n",
       "Average_of_data_used_of_last_three_month         90.9333\n",
       "Churn                                                  0\n",
       "Time_period                                         1219\n",
       "Contract_Time_Remaining                                3\n",
       "Address_mean                                   0.0504607\n",
       "Address_std                                     0.218905\n",
       "Scheme_mean                                    0.0541719\n",
       "Scheme_std                                      0.226392\n",
       "Staus_mean                                     0.0387581\n",
       "Staus_std                                       0.193028\n",
       "Gender_mean                                    0.0512238\n",
       "Gender_std                                      0.220482\n",
       "Region _mean                                   0.0347682\n",
       "Region _std                                     0.183268\n",
       " Sale of Equipment Status_mean                 0.0507961\n",
       " Sale of Equipment Status_std                   0.219593\n",
       "Equipment Warranty_mean                        0.0509875\n",
       "Equipment Warranty_std                          0.219983\n",
       "Salary Slab_mean                               0.0396825\n",
       "Salary Slab_std                                 0.195406\n",
       "Professional Info_mean                          0.057404\n",
       "Age of Home_mean                               0.0263959\n",
       "Age of Home_std                                  0.16035\n",
       "Mode_mean                                      0.0533992\n",
       "Mode_std                                        0.224841\n",
       "Name: 1, dtype: object"
      ]
     },
     "execution_count": 648,
     "metadata": {},
     "output_type": "execute_result"
    }
   ],
   "source": [
    "data.iloc[1]"
   ]
  },
  {
   "cell_type": "code",
   "execution_count": 649,
   "metadata": {
    "collapsed": true
   },
   "outputs": [],
   "source": [
    "# del data[\"Professional Info_std\"]"
   ]
  },
  {
   "cell_type": "code",
   "execution_count": 650,
   "metadata": {
    "collapsed": false
   },
   "outputs": [
    {
     "data": {
      "text/plain": [
       "Index(['Account Number', 'Age', 'Defaults', 'Last_Month_Payment',\n",
       "       'Average_of_payment_of_last_two_month',\n",
       "       'Average_of_payment_of_last_three_month', 'Last_Month_Default',\n",
       "       'Average_of_default_of_last_two_month',\n",
       "       'Average_of_default_of_last_three_month', 'Initial_Level_Tech',\n",
       "       'Account', 'Payment_Settlement', 'Utilities',\n",
       "       'Operational_Capabilities', 'Initial_Level_Payment_Settlement',\n",
       "       'Limit_Defaults', 'Last_Month_used_pattern',\n",
       "       'Average_of_used_pattern_of_last_two_month',\n",
       "       'Average_of_used_pattern_of_last_three_month', 'Last_Month_Post_Limit',\n",
       "       'Average_of_Post_Limit_of_last_two_month',\n",
       "       'Average_of_Post_Limit_of_last_three_month', 'Last_MOnth_data_used',\n",
       "       'Average_of_data_used_of_last_two_month',\n",
       "       'Average_of_data_used_of_last_three_month', 'Churn', 'Time_period',\n",
       "       'Contract_Time_Remaining', 'Address_mean', 'Address_std', 'Scheme_mean',\n",
       "       'Scheme_std', 'Staus_mean', 'Staus_std', 'Gender_mean', 'Gender_std',\n",
       "       'Region _mean', 'Region _std', ' Sale of Equipment Status_mean',\n",
       "       ' Sale of Equipment Status_std', 'Equipment Warranty_mean',\n",
       "       'Equipment Warranty_std', 'Salary Slab_mean', 'Salary Slab_std',\n",
       "       'Professional Info_mean', 'Age of Home_mean', 'Age of Home_std',\n",
       "       'Mode_mean', 'Mode_std'],\n",
       "      dtype='object')"
      ]
     },
     "execution_count": 650,
     "metadata": {},
     "output_type": "execute_result"
    }
   ],
   "source": [
    "data.columns"
   ]
  },
  {
   "cell_type": "code",
   "execution_count": 651,
   "metadata": {
    "collapsed": false
   },
   "outputs": [
    {
     "data": {
      "text/plain": [
       "((14952, 49), (9966, 49), (4986, 49))"
      ]
     },
     "execution_count": 651,
     "metadata": {},
     "output_type": "execute_result"
    }
   ],
   "source": [
    "data[\"X\"]=data[\"Account Number\"].apply(lambda x: x[0])\n",
    "train=data[data.X==\"M\"]\n",
    "test=data[data.X==\"V\"]\n",
    "del data[\"X\"], train[\"X\"], test[\"X\"]\n",
    "\n",
    "data.shape, train.shape, test.shape"
   ]
  },
  {
   "cell_type": "markdown",
   "metadata": {},
   "source": [
    "> Percentage of Churners"
   ]
  },
  {
   "cell_type": "code",
   "execution_count": null,
   "metadata": {
    "collapsed": true
   },
   "outputs": [],
   "source": []
  },
  {
   "cell_type": "code",
   "execution_count": 652,
   "metadata": {
    "collapsed": false
   },
   "outputs": [
    {
     "name": "stdout",
     "output_type": "stream",
     "text": [
      "CHurners  :5.077262693156733\n",
      "Non-Churners  :94.92273730684326\n"
     ]
    }
   ],
   "source": [
    "# Percentage of Churners\n",
    "print (\"CHurners  :\"+str(train[\"Churn\"].sum()/len(train)*100))\n",
    "print (\"Non-Churners  :\"+str( 100-train[\"Churn\"].sum()/len(train)*100))"
   ]
  },
  {
   "cell_type": "markdown",
   "metadata": {},
   "source": [
    "> "
   ]
  },
  {
   "cell_type": "markdown",
   "metadata": {},
   "source": [
    "> # Preparing data"
   ]
  },
  {
   "cell_type": "code",
   "execution_count": 653,
   "metadata": {
    "collapsed": true
   },
   "outputs": [],
   "source": [
    "#"
   ]
  },
  {
   "cell_type": "code",
   "execution_count": 654,
   "metadata": {
    "collapsed": false
   },
   "outputs": [
    {
     "data": {
      "text/plain": [
       "Index(['Account Number', 'Age', 'Defaults', 'Last_Month_Payment',\n",
       "       'Average_of_payment_of_last_two_month',\n",
       "       'Average_of_payment_of_last_three_month', 'Last_Month_Default',\n",
       "       'Average_of_default_of_last_two_month',\n",
       "       'Average_of_default_of_last_three_month', 'Initial_Level_Tech',\n",
       "       'Account', 'Payment_Settlement', 'Utilities',\n",
       "       'Operational_Capabilities', 'Initial_Level_Payment_Settlement',\n",
       "       'Limit_Defaults', 'Last_Month_used_pattern',\n",
       "       'Average_of_used_pattern_of_last_two_month',\n",
       "       'Average_of_used_pattern_of_last_three_month', 'Last_Month_Post_Limit',\n",
       "       'Average_of_Post_Limit_of_last_two_month',\n",
       "       'Average_of_Post_Limit_of_last_three_month', 'Last_MOnth_data_used',\n",
       "       'Average_of_data_used_of_last_two_month',\n",
       "       'Average_of_data_used_of_last_three_month', 'Churn', 'Time_period',\n",
       "       'Contract_Time_Remaining', 'Address_mean', 'Address_std', 'Scheme_mean',\n",
       "       'Scheme_std', 'Staus_mean', 'Staus_std', 'Gender_mean', 'Gender_std',\n",
       "       'Region _mean', 'Region _std', ' Sale of Equipment Status_mean',\n",
       "       ' Sale of Equipment Status_std', 'Equipment Warranty_mean',\n",
       "       'Equipment Warranty_std', 'Salary Slab_mean', 'Salary Slab_std',\n",
       "       'Professional Info_mean', 'Age of Home_mean', 'Age of Home_std',\n",
       "       'Mode_mean', 'Mode_std'],\n",
       "      dtype='object')"
      ]
     },
     "execution_count": 654,
     "metadata": {},
     "output_type": "execute_result"
    }
   ],
   "source": [
    "data.columns"
   ]
  },
  {
   "cell_type": "code",
   "execution_count": null,
   "metadata": {
    "collapsed": true
   },
   "outputs": [],
   "source": []
  },
  {
   "cell_type": "code",
   "execution_count": 655,
   "metadata": {
    "collapsed": true
   },
   "outputs": [],
   "source": [
    "#"
   ]
  },
  {
   "cell_type": "code",
   "execution_count": 656,
   "metadata": {
    "collapsed": true
   },
   "outputs": [],
   "source": [
    "#Preparing data\n",
    "def prepare_data(df, is_train):\n",
    "\n",
    "    if is_train:\n",
    "        return df.drop(['Churn',\"Account Number\"], axis=1), df['Churn']\n",
    "    return     df.drop([        \"Account Number\"], axis=1)"
   ]
  },
  {
   "cell_type": "code",
   "execution_count": 657,
   "metadata": {
    "collapsed": false
   },
   "outputs": [],
   "source": [
    "maintrain, maintrain_target =prepare_data(train, 1)\n",
    "main_data,Nopee= prepare_data(test,1)"
   ]
  },
  {
   "cell_type": "code",
   "execution_count": 658,
   "metadata": {
    "collapsed": false
   },
   "outputs": [],
   "source": [
    "from sklearn.cross_validation import train_test_split\n",
    "Xtrain, Xtest, ytrain, ytest = train_test_split( maintrain, maintrain_target, stratify=Ytrain)"
   ]
  },
  {
   "cell_type": "code",
   "execution_count": 659,
   "metadata": {
    "collapsed": false
   },
   "outputs": [
    {
     "data": {
      "text/plain": [
       "(0.05070912496655071, 0.05096308186195827)"
      ]
     },
     "execution_count": 659,
     "metadata": {},
     "output_type": "execute_result"
    }
   ],
   "source": [
    "ytrain.sum()/len(ytrain), ytest.sum()/len(ytest)"
   ]
  },
  {
   "cell_type": "markdown",
   "metadata": {},
   "source": [
    "> "
   ]
  },
  {
   "cell_type": "code",
   "execution_count": 660,
   "metadata": {
    "collapsed": true
   },
   "outputs": [],
   "source": [
    "from sklearn.grid_search import GridSearchCV\n",
    "from sklearn.linear_model import LogisticRegression\n",
    "from sklearn.metrics import accuracy_score\n",
    "from sklearn.metrics import confusion_matrix\n",
    "from sklearn.metrics import roc_auc_score\n",
    "from sklearn import tree\n",
    "from sklearn.metrics import roc_curve, auc"
   ]
  },
  {
   "cell_type": "markdown",
   "metadata": {},
   "source": [
    ">  # Functions"
   ]
  },
  {
   "cell_type": "code",
   "execution_count": 661,
   "metadata": {
    "collapsed": true
   },
   "outputs": [],
   "source": [
    "def make_roc(name, clf, ytest, xtest, ax=None, labe=5, proba=True, skip=0):\n",
    "    initial=False\n",
    "    if not ax:\n",
    "        ax=plt.gca()\n",
    "        initial=True\n",
    "    if proba:\n",
    "        fpr, tpr, thresholds=roc_curve(ytest, clf.predict_proba(xtest)[:,1])\n",
    "    else:\n",
    "        fpr, tpr, thresholds=roc_curve(ytest, clf.decision_function(xtest))\n",
    "    roc_auc = auc(fpr, tpr)\n",
    "    if skip:\n",
    "        l=fpr.shape[0]\n",
    "        ax.plot(fpr[0:l:skip], tpr[0:l:skip], '.-', alpha=0.3, label='ROC curve for %s (area = %0.2f)' % (name, roc_auc))\n",
    "    else:\n",
    "        ax.plot(fpr, tpr, '.-', alpha=0.3, label='ROC curve for %s (area = %0.2f)' % (name, roc_auc))\n",
    "    label_kwargs = {}\n",
    "    label_kwargs['bbox'] = dict(\n",
    "        boxstyle='round,pad=0.3', alpha=0.2,\n",
    "    )\n",
    "    for k in range(0, fpr.shape[0],labe):\n",
    "        #from https://gist.github.com/podshumok/c1d1c9394335d86255b8\n",
    "        threshold = str(np.round(thresholds[k], 2))\n",
    "        ax.annotate(threshold, (fpr[k], tpr[k]), **label_kwargs)\n",
    "    if initial:\n",
    "        ax.plot([0, 1], [0, 1], 'k--')\n",
    "        ax.set_xlim([0.0, 1.0])\n",
    "        ax.set_ylim([0.0, 1.05])\n",
    "        ax.set_xlabel('False Positive Rate')\n",
    "        ax.set_ylabel('True Positive Rate')\n",
    "        ax.set_title('ROC')\n",
    "    ax.legend(loc=\"lower right\")\n",
    "    return ax"
   ]
  },
  {
   "cell_type": "markdown",
   "metadata": {},
   "source": [
    "> # Cost Description"
   ]
  },
  {
   "cell_type": "code",
   "execution_count": 662,
   "metadata": {
    "collapsed": true
   },
   "outputs": [],
   "source": [
    "admin_cost=3\n",
    "offer_cost=100\n",
    "clv=1000#customer lifetime value"
   ]
  },
  {
   "cell_type": "code",
   "execution_count": 663,
   "metadata": {
    "collapsed": true
   },
   "outputs": [],
   "source": [
    "conv=0.5\n",
    "tnc = 0.\n",
    "fpc = admin_cost+offer_cost\n",
    "fnc = clv\n",
    "tpc = conv*offer_cost + (1. - conv)*(clv+admin_cost)"
   ]
  },
  {
   "cell_type": "code",
   "execution_count": 664,
   "metadata": {
    "collapsed": false
   },
   "outputs": [
    {
     "name": "stdout",
     "output_type": "stream",
     "text": [
      "[[    0.    103. ]\n",
      " [ 1000.    551.5]]\n"
     ]
    }
   ],
   "source": [
    "cost=np.array([[tnc,fpc],[fnc, tpc]])\n",
    "print (cost)"
   ]
  },
  {
   "cell_type": "code",
   "execution_count": 665,
   "metadata": {
    "collapsed": true
   },
   "outputs": [],
   "source": [
    "def average_cost(y, ypred, cost):\n",
    "    c=confusion_matrix(y,ypred)\n",
    "    print (c)\n",
    "    score=np.sum(c*cost)/np.sum(c)\n",
    "    return (score)\n",
    "def repredict(est,t, xtest):\n",
    "    probs=est.predict_proba(xtest)\n",
    "    p0 = probs[:,0]\n",
    "    p1 = probs[:,1]\n",
    "    ypred = (p1 >= t)*1\n",
    "    return ypred"
   ]
  },
  {
   "cell_type": "code",
   "execution_count": 666,
   "metadata": {
    "collapsed": false
   },
   "outputs": [
    {
     "name": "stdout",
     "output_type": "stream",
     "text": [
      "[[2365    0]\n",
      " [ 127    0]]\n",
      "50.963081862\n"
     ]
    }
   ],
   "source": [
    "# Cost when we predict everything 0\n",
    "print (average_cost(ytest,np.zeros(len(ytest)),cost))"
   ]
  },
  {
   "cell_type": "code",
   "execution_count": 667,
   "metadata": {
    "collapsed": false
   },
   "outputs": [
    {
     "name": "stdout",
     "output_type": "stream",
     "text": [
      "[[   0 2365]\n",
      " [   0  127]]\n",
      "125.856942215\n"
     ]
    }
   ],
   "source": [
    "# Cost when we predict everything 1\n",
    "print (average_cost(ytest,np.ones(len(ytest)),cost))"
   ]
  },
  {
   "cell_type": "markdown",
   "metadata": {},
   "source": [
    "> # 1. Logistic Regression"
   ]
  },
  {
   "cell_type": "code",
   "execution_count": 668,
   "metadata": {
    "collapsed": false
   },
   "outputs": [
    {
     "data": {
      "text/plain": [
       "({'C': 1}, 0.16080291216383347)"
      ]
     },
     "execution_count": 668,
     "metadata": {},
     "output_type": "execute_result"
    }
   ],
   "source": [
    "Logistic=LogisticRegression()\n",
    "parameters = {\"C\": [0.1, 1, 10, 100]}\n",
    "fitmodel = GridSearchCV(Logistic, param_grid=parameters, cv=5, scoring=\"f1\")\n",
    "fitmodel.fit(Xtrain, ytrain)\n",
    "##fitmodel.best_estimator_, fitmodel.grid_scores_,\n",
    "fitmodel.best_params_, fitmodel.best_score_"
   ]
  },
  {
   "cell_type": "code",
   "execution_count": 669,
   "metadata": {
    "collapsed": false
   },
   "outputs": [
    {
     "name": "stdout",
     "output_type": "stream",
     "text": [
      "Training :0.952100615467\n",
      "Test :0.956661316212\n"
     ]
    }
   ],
   "source": [
    "Logistic=LogisticRegression(C=fitmodel.best_params_['C'])\n",
    "Logistic.fit(Xtrain, ytrain)\n",
    "\n",
    "print (\"Training :\"+str(accuracy_score( ytrain, Logistic.predict(Xtrain))))\n",
    "print (\"Test :\"+str(accuracy_score( ytest, Logistic.predict(Xtest))))#"
   ]
  },
  {
   "cell_type": "code",
   "execution_count": 670,
   "metadata": {
    "collapsed": true
   },
   "outputs": [],
   "source": [
    "#"
   ]
  },
  {
   "cell_type": "code",
   "execution_count": 671,
   "metadata": {
    "collapsed": false
   },
   "outputs": [
    {
     "name": "stdout",
     "output_type": "stream",
     "text": [
      "[[2359    6]\n",
      " [ 102   25]]\n"
     ]
    },
    {
     "data": {
      "text/plain": [
       "46.711677367576243"
      ]
     },
     "execution_count": 671,
     "metadata": {},
     "output_type": "execute_result"
    }
   ],
   "source": [
    "average_cost(ytest, Logistic.predict(Xtest), cost)"
   ]
  },
  {
   "cell_type": "code",
   "execution_count": 672,
   "metadata": {
    "collapsed": false
   },
   "outputs": [
    {
     "name": "stdout",
     "output_type": "stream",
     "text": [
      "[[2316   49]\n",
      " [  79   48]]\n"
     ]
    },
    {
     "data": {
      "text/plain": [
       "44.349518459069024"
      ]
     },
     "execution_count": 672,
     "metadata": {},
     "output_type": "execute_result"
    }
   ],
   "source": [
    "average_cost(ytest, repredict(Logistic,.2 ,Xtest), cost)"
   ]
  },
  {
   "cell_type": "code",
   "execution_count": 681,
   "metadata": {
    "collapsed": false
   },
   "outputs": [
    {
     "data": {
      "text/plain": [
       "0.9506420545746388"
      ]
     },
     "execution_count": 681,
     "metadata": {},
     "output_type": "execute_result"
    }
   ],
   "source": [
    "accuracy_score(ytest, repredict(Logistic,.2,Xtest))"
   ]
  },
  {
   "cell_type": "code",
   "execution_count": 674,
   "metadata": {
    "collapsed": false
   },
   "outputs": [
    {
     "data": {
      "text/plain": [
       "<matplotlib.axes._subplots.AxesSubplot at 0x1c48c3b5b38>"
      ]
     },
     "execution_count": 674,
     "metadata": {},
     "output_type": "execute_result"
    },
    {
     "data": {
      "image/png": "[encoded data removed]",
      "text/plain": [
       "<matplotlib.figure.Figure at 0x1c48bfba5c0>"
      ]
     },
     "metadata": {},
     "output_type": "display_data"
    }
   ],
   "source": [
    "rcParams['figure.figsize'] = (8, 4)\n",
    "make_roc(\"Logistic\",Logistic, ytest, Xtest, None, labe=8)"
   ]
  },
  {
   "cell_type": "code",
   "execution_count": null,
   "metadata": {
    "collapsed": true
   },
   "outputs": [],
   "source": []
  },
  {
   "cell_type": "code",
   "execution_count": 679,
   "metadata": {
    "collapsed": false
   },
   "outputs": [],
   "source": [
    "# ax=make_roc(\"Logistic\",clfl2, ytestlr, Xtestlr, None, labe=60)\n",
    "# make_roc(\"dt\",clfdt, ytestlr, Xtestlr, ax, labe=1)"
   ]
  },
  {
   "cell_type": "code",
   "execution_count": 680,
   "metadata": {
    "collapsed": true
   },
   "outputs": [],
   "source": [
    "#no"
   ]
  }
 ],
 "metadata": {
  "anaconda-cloud": {},
  "kernelspec": {
   "display_name": "Python [default]",
   "language": "python",
   "name": "python3"
  },
  "language_info": {
   "codemirror_mode": {
    "name": "ipython",
    "version": 3
   },
   "file_extension": ".py",
   "mimetype": "text/x-python",
   "name": "python",
   "nbconvert_exporter": "python",
   "pygments_lexer": "ipython3",
   "version": "3.5.2"
  }
 },
 "nbformat": 4,
 "nbformat_minor": 1
}
